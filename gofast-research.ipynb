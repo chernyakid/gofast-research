{
 "cells": [
  {
   "cell_type": "markdown",
   "id": "962c3eed",
   "metadata": {},
   "source": [
    "# Статистический анализ аренды самокатов сервиса GoFast\n",
    "\n",
    "**Заказчик исследования:** сервис по прокату самокатов GoFast.\n",
    "\n",
    "**Цель исследования:** проанализировать данные и провести проверку гипотез, которые будут способствовать росту бизнеса.\n",
    "\n",
    "Исследование базируется на данных о некоторых пользователях из нескольких городов, а также об их поездках.\n",
    "\n",
    "**Немного информации о сервисе**\n",
    "\n",
    "Чтобы совершать поездки по городу, пользователи сервиса GoFast пользуются мобильным приложением. Сервисом можно пользоваться:\n",
    "- без подписки\n",
    "    - абонентская плата отсутствует;\n",
    "    - стоимость одной минуты поездки — 8 рублей;\n",
    "    - стоимость старта (начала поездки) — 50 рублей;\n",
    "- с подпиской Ultra       \n",
    "    - абонентская плата — 199 рублей в месяц;\n",
    "    - стоимость одной минуты поездки — 6 рублей;\n",
    "    - стоимость старта — бесплатно.\n",
    "    \n",
    "**Содержание**\n",
    "* [Описание данных](#section_0)\n",
    "* [1. Загрузка данных](#section_1)\n",
    "* [2. Предобработка данных](#section_2)\n",
    "    * [2.1 Приведение столбца date к типу даты](#section_2_1)\n",
    "    * [2.2 Создание нового столбца с номером месяца на основе столбца date](#section_2_2)\n",
    "    * [2.3 Обработка дубликатов](#section_2_3)\n",
    "    * [2.4 Обработка пропусков](#section_2.4)\n",
    "    * [2.5 Выводы](#section_2_5)\n",
    "* [3. Исследовательский анализ данных](#section_3)\n",
    "    * [3.1 Частота встречаемости городов у пользователей](#section_3_1)\n",
    "    * [3.2 Соотношение пользователей с подпиской и без подписки](#section_3_2)\n",
    "    * [3.3 Возраст пользователей](#section_3_3)\n",
    "    * [3.4 Расстояние, которое пользователь преодолел за одну поездку](#section_3_4)\n",
    "    * [3.5 Продолжительность поездок](#section_3_5)\n",
    "    * [3.6 Выводы](#section_3_6)\n",
    "* [4. Объединение данных](#section_4)\n",
    "    * [4.1 Объединие всех данных в один датафрейм](#section_4_1)\n",
    "    * [4.2 Разделение данных по пользователям с подпиской и без](#section_4_2)\n",
    "    * [4.3 Визуализация информации](#section_4_3)\n",
    "        * [4.3.1 Расстояние поездок для пользователей с подпиской и без](#section_4_3_1)\n",
    "        * [4.3.2 Время поездок для пользователей с подпиской и без](#section_4_3_2)\n",
    "    * [4.4 Выводы](#section_4_4)\n",
    "* [5. Подсчёт выручки](#section_5)\n",
    "    * [5.1 Помесячная агрегация данных](#section_5_1)\n",
    "    * [5.2 Помесячная выручка](#section_5_2)\n",
    "    * [5.3 Выводы](#section_5_3)\n",
    "* [6. Проверка гипотез](#section_6)\n",
    "    * [6.1 Тратят ли пользователи с подпиской больше времени на поездки?](#section_6_1)\n",
    "    * [6.2 Оптимальное ли расстояние поездки у пользователей с подпиской?](#section_6_2)\n",
    "    * [6.3 От каких пользователей выручка выше - с подпиской или без?](#section_6_3)\n",
    "    * [6.4 Как изменилось количество обращений в техподдержку?](#section_6_4)\n",
    "    * [6.5 Выводы](#section_6_5) \n",
    "* [Общие выводы](#section_7)"
   ]
  },
  {
   "cell_type": "markdown",
   "id": "8fc05788",
   "metadata": {},
   "source": [
    "## Описание данных <a id=\"section_0\"></a>"
   ]
  },
  {
   "cell_type": "markdown",
   "id": "fe78bc66",
   "metadata": {},
   "source": [
    "**Описание полей в датасетах**\n",
    "\n",
    "Пользователи — `users_go.csv`\n",
    "\n",
    "- `user_id` — уникальный идентификатор пользователя\n",
    "- `name` — имя пользователя\n",
    "- `age` — возраст\n",
    "- `city` — город\n",
    "- `subscription_type` — тип подписки (free, ultra)\n",
    "\n",
    "Поeздки — `rides_go.csv`\n",
    "\n",
    "- `user_id` — уникальный идентификатор пользователя\n",
    "- `distance` — расстояние, которое пользователь проехал в текущей сессии (в метрах)\n",
    "- `duration` — продолжительность сессии (в минутах) — время с того момента, как пользователь нажал кнопку «Начать поездку» до момента, как он нажал кнопку «Завершить поездку»\n",
    "- `date` — дата совершения поездки\n",
    "\n",
    "Подписки — `subscriptions_go.csv`\n",
    "\n",
    "- `subscription_type` — тип подписки\n",
    "- `minute_price` — стоимость одной минуты поездки по данной подписке\n",
    "- `start_ride_price` — стоимость начала поездки\n",
    "- `subscription_fee` — стоимость ежемесячного платежа"
   ]
  },
  {
   "cell_type": "markdown",
   "id": "27baaa02",
   "metadata": {},
   "source": [
    "## 1. Загрузка данных <a id=\"section_1\"></a>"
   ]
  },
  {
   "cell_type": "code",
   "execution_count": 1,
   "id": "b8db1a84",
   "metadata": {},
   "outputs": [],
   "source": [
    "# Импортируем нужные библиотеки\n",
    "from scipy import stats as st\n",
    "from IPython.display import display\n",
    "import pandas as pd\n",
    "import numpy as np\n",
    "import matplotlib.pyplot as plt\n",
    "import seaborn as sns"
   ]
  },
  {
   "cell_type": "code",
   "execution_count": 2,
   "id": "4248a90e",
   "metadata": {},
   "outputs": [],
   "source": [
    "# Загрузим необходимые для анализа датасеты \n",
    "data_users = pd.read_csv('https://code.s3.yandex.net/datasets/users_go.csv')\n",
    "data_rides = pd.read_csv('https://code.s3.yandex.net/datasets/rides_go.csv')\n",
    "data_subs = pd.read_csv('https://code.s3.yandex.net/datasets/subscriptions_go.csv')"
   ]
  },
  {
   "cell_type": "code",
   "execution_count": 3,
   "id": "71db95b5",
   "metadata": {},
   "outputs": [
    {
     "data": {
      "text/html": [
       "<div>\n",
       "<style scoped>\n",
       "    .dataframe tbody tr th:only-of-type {\n",
       "        vertical-align: middle;\n",
       "    }\n",
       "\n",
       "    .dataframe tbody tr th {\n",
       "        vertical-align: top;\n",
       "    }\n",
       "\n",
       "    .dataframe thead th {\n",
       "        text-align: right;\n",
       "    }\n",
       "</style>\n",
       "<table border=\"1\" class=\"dataframe\">\n",
       "  <thead>\n",
       "    <tr style=\"text-align: right;\">\n",
       "      <th></th>\n",
       "      <th>user_id</th>\n",
       "      <th>name</th>\n",
       "      <th>age</th>\n",
       "      <th>city</th>\n",
       "      <th>subscription_type</th>\n",
       "    </tr>\n",
       "  </thead>\n",
       "  <tbody>\n",
       "    <tr>\n",
       "      <th>0</th>\n",
       "      <td>1</td>\n",
       "      <td>Кира</td>\n",
       "      <td>22</td>\n",
       "      <td>Тюмень</td>\n",
       "      <td>ultra</td>\n",
       "    </tr>\n",
       "    <tr>\n",
       "      <th>1</th>\n",
       "      <td>2</td>\n",
       "      <td>Станислав</td>\n",
       "      <td>31</td>\n",
       "      <td>Омск</td>\n",
       "      <td>ultra</td>\n",
       "    </tr>\n",
       "    <tr>\n",
       "      <th>2</th>\n",
       "      <td>3</td>\n",
       "      <td>Алексей</td>\n",
       "      <td>20</td>\n",
       "      <td>Москва</td>\n",
       "      <td>ultra</td>\n",
       "    </tr>\n",
       "    <tr>\n",
       "      <th>3</th>\n",
       "      <td>4</td>\n",
       "      <td>Константин</td>\n",
       "      <td>26</td>\n",
       "      <td>Ростов-на-Дону</td>\n",
       "      <td>ultra</td>\n",
       "    </tr>\n",
       "    <tr>\n",
       "      <th>4</th>\n",
       "      <td>5</td>\n",
       "      <td>Адель</td>\n",
       "      <td>28</td>\n",
       "      <td>Омск</td>\n",
       "      <td>ultra</td>\n",
       "    </tr>\n",
       "  </tbody>\n",
       "</table>\n",
       "</div>"
      ],
      "text/plain": [
       "   user_id        name  age            city subscription_type\n",
       "0        1        Кира   22          Тюмень             ultra\n",
       "1        2   Станислав   31            Омск             ultra\n",
       "2        3     Алексей   20          Москва             ultra\n",
       "3        4  Константин   26  Ростов-на-Дону             ultra\n",
       "4        5       Адель   28            Омск             ultra"
      ]
     },
     "metadata": {},
     "output_type": "display_data"
    },
    {
     "data": {
      "text/html": [
       "<div>\n",
       "<style scoped>\n",
       "    .dataframe tbody tr th:only-of-type {\n",
       "        vertical-align: middle;\n",
       "    }\n",
       "\n",
       "    .dataframe tbody tr th {\n",
       "        vertical-align: top;\n",
       "    }\n",
       "\n",
       "    .dataframe thead th {\n",
       "        text-align: right;\n",
       "    }\n",
       "</style>\n",
       "<table border=\"1\" class=\"dataframe\">\n",
       "  <thead>\n",
       "    <tr style=\"text-align: right;\">\n",
       "      <th></th>\n",
       "      <th>user_id</th>\n",
       "      <th>distance</th>\n",
       "      <th>duration</th>\n",
       "      <th>date</th>\n",
       "    </tr>\n",
       "  </thead>\n",
       "  <tbody>\n",
       "    <tr>\n",
       "      <th>0</th>\n",
       "      <td>1</td>\n",
       "      <td>4409.919140</td>\n",
       "      <td>25.599769</td>\n",
       "      <td>2021-01-01</td>\n",
       "    </tr>\n",
       "    <tr>\n",
       "      <th>1</th>\n",
       "      <td>1</td>\n",
       "      <td>2617.592153</td>\n",
       "      <td>15.816871</td>\n",
       "      <td>2021-01-18</td>\n",
       "    </tr>\n",
       "    <tr>\n",
       "      <th>2</th>\n",
       "      <td>1</td>\n",
       "      <td>754.159807</td>\n",
       "      <td>6.232113</td>\n",
       "      <td>2021-04-20</td>\n",
       "    </tr>\n",
       "    <tr>\n",
       "      <th>3</th>\n",
       "      <td>1</td>\n",
       "      <td>2694.783254</td>\n",
       "      <td>18.511000</td>\n",
       "      <td>2021-08-11</td>\n",
       "    </tr>\n",
       "    <tr>\n",
       "      <th>4</th>\n",
       "      <td>1</td>\n",
       "      <td>4028.687306</td>\n",
       "      <td>26.265803</td>\n",
       "      <td>2021-08-28</td>\n",
       "    </tr>\n",
       "  </tbody>\n",
       "</table>\n",
       "</div>"
      ],
      "text/plain": [
       "   user_id     distance   duration        date\n",
       "0        1  4409.919140  25.599769  2021-01-01\n",
       "1        1  2617.592153  15.816871  2021-01-18\n",
       "2        1   754.159807   6.232113  2021-04-20\n",
       "3        1  2694.783254  18.511000  2021-08-11\n",
       "4        1  4028.687306  26.265803  2021-08-28"
      ]
     },
     "metadata": {},
     "output_type": "display_data"
    },
    {
     "data": {
      "text/html": [
       "<div>\n",
       "<style scoped>\n",
       "    .dataframe tbody tr th:only-of-type {\n",
       "        vertical-align: middle;\n",
       "    }\n",
       "\n",
       "    .dataframe tbody tr th {\n",
       "        vertical-align: top;\n",
       "    }\n",
       "\n",
       "    .dataframe thead th {\n",
       "        text-align: right;\n",
       "    }\n",
       "</style>\n",
       "<table border=\"1\" class=\"dataframe\">\n",
       "  <thead>\n",
       "    <tr style=\"text-align: right;\">\n",
       "      <th></th>\n",
       "      <th>subscription_type</th>\n",
       "      <th>minute_price</th>\n",
       "      <th>start_ride_price</th>\n",
       "      <th>subscription_fee</th>\n",
       "    </tr>\n",
       "  </thead>\n",
       "  <tbody>\n",
       "    <tr>\n",
       "      <th>0</th>\n",
       "      <td>free</td>\n",
       "      <td>8</td>\n",
       "      <td>50</td>\n",
       "      <td>0</td>\n",
       "    </tr>\n",
       "    <tr>\n",
       "      <th>1</th>\n",
       "      <td>ultra</td>\n",
       "      <td>6</td>\n",
       "      <td>0</td>\n",
       "      <td>199</td>\n",
       "    </tr>\n",
       "  </tbody>\n",
       "</table>\n",
       "</div>"
      ],
      "text/plain": [
       "  subscription_type  minute_price  start_ride_price  subscription_fee\n",
       "0              free             8                50                 0\n",
       "1             ultra             6                 0               199"
      ]
     },
     "metadata": {},
     "output_type": "display_data"
    }
   ],
   "source": [
    "# Выведем первые строки каждого набора данных. Изучим общую информацию о каждом датафрейме.\n",
    "# получение первых cтрок таблицы data_users\n",
    "display(data_users.head())\n",
    "\n",
    "# получение первых cтрок таблицы data_rides\n",
    "display(data_rides.head())\n",
    "\n",
    "# получение первых cтрок таблицы data_subs\n",
    "display(data_subs.head())"
   ]
  },
  {
   "cell_type": "code",
   "execution_count": 4,
   "id": "4f747044",
   "metadata": {},
   "outputs": [
    {
     "name": "stdout",
     "output_type": "stream",
     "text": [
      "<class 'pandas.core.frame.DataFrame'>\n",
      "RangeIndex: 1565 entries, 0 to 1564\n",
      "Data columns (total 5 columns):\n",
      " #   Column             Non-Null Count  Dtype \n",
      "---  ------             --------------  ----- \n",
      " 0   user_id            1565 non-null   int64 \n",
      " 1   name               1565 non-null   object\n",
      " 2   age                1565 non-null   int64 \n",
      " 3   city               1565 non-null   object\n",
      " 4   subscription_type  1565 non-null   object\n",
      "dtypes: int64(2), object(3)\n",
      "memory usage: 61.3+ KB\n"
     ]
    }
   ],
   "source": [
    "# Общая информация о пользователях\n",
    "data_users.info()"
   ]
  },
  {
   "cell_type": "code",
   "execution_count": 5,
   "id": "6049031a",
   "metadata": {},
   "outputs": [
    {
     "name": "stdout",
     "output_type": "stream",
     "text": [
      "<class 'pandas.core.frame.DataFrame'>\n",
      "RangeIndex: 18068 entries, 0 to 18067\n",
      "Data columns (total 4 columns):\n",
      " #   Column    Non-Null Count  Dtype  \n",
      "---  ------    --------------  -----  \n",
      " 0   user_id   18068 non-null  int64  \n",
      " 1   distance  18068 non-null  float64\n",
      " 2   duration  18068 non-null  float64\n",
      " 3   date      18068 non-null  object \n",
      "dtypes: float64(2), int64(1), object(1)\n",
      "memory usage: 564.8+ KB\n"
     ]
    }
   ],
   "source": [
    "# Общая информация о поездках\n",
    "data_rides.info()"
   ]
  },
  {
   "cell_type": "code",
   "execution_count": 6,
   "id": "9c3d42af",
   "metadata": {},
   "outputs": [
    {
     "name": "stdout",
     "output_type": "stream",
     "text": [
      "<class 'pandas.core.frame.DataFrame'>\n",
      "RangeIndex: 2 entries, 0 to 1\n",
      "Data columns (total 4 columns):\n",
      " #   Column             Non-Null Count  Dtype \n",
      "---  ------             --------------  ----- \n",
      " 0   subscription_type  2 non-null      object\n",
      " 1   minute_price       2 non-null      int64 \n",
      " 2   start_ride_price   2 non-null      int64 \n",
      " 3   subscription_fee   2 non-null      int64 \n",
      "dtypes: int64(3), object(1)\n",
      "memory usage: 196.0+ bytes\n"
     ]
    }
   ],
   "source": [
    "# Общая информация о подписках\n",
    "data_subs.info()"
   ]
  },
  {
   "cell_type": "markdown",
   "id": "fbda3c05",
   "metadata": {},
   "source": [
    "Из общей информации, выведенной методом info(), можно сделать следующие выводы:\n",
    "- Имеются три таблицы - с данными о пользователях, поездках и подписках. \n",
    "- В данных всех таблиц отсутствуют пропуски.\n",
    "- Таблица с пользователями и поездками связаны идентификатором user_id.\n",
    "- Таблица пользователей и информации с подписками связаны по столбцу subscription_type.\n"
   ]
  },
  {
   "cell_type": "markdown",
   "id": "6e99ddf9",
   "metadata": {},
   "source": [
    "## 2. Предобработка данных <a id=\"section_2\"></a>"
   ]
  },
  {
   "cell_type": "markdown",
   "id": "f9afcdac",
   "metadata": {},
   "source": [
    "### 2.1 Приведение столбца date к типу даты <a id=\"section_2_1\"></a>"
   ]
  },
  {
   "cell_type": "code",
   "execution_count": 7,
   "id": "14581fed",
   "metadata": {},
   "outputs": [
    {
     "data": {
      "text/plain": [
       "0       2021-01-01\n",
       "1       2021-01-18\n",
       "2       2021-04-20\n",
       "3       2021-08-11\n",
       "4       2021-08-28\n",
       "           ...    \n",
       "18063   2021-11-04\n",
       "18064   2021-11-16\n",
       "18065   2021-11-18\n",
       "18066   2021-11-27\n",
       "18067   2021-12-29\n",
       "Name: date, Length: 18068, dtype: datetime64[ns]"
      ]
     },
     "execution_count": 7,
     "metadata": {},
     "output_type": "execute_result"
    }
   ],
   "source": [
    "# Преобразуем столбец 'data_rides['date']' в тип datetime\n",
    "data_rides['date'] = pd.to_datetime(data_rides['date'])\n",
    "\n",
    "# Выведем для проверки значения из столбца df_rides['date']\n",
    "data_rides['date']"
   ]
  },
  {
   "cell_type": "markdown",
   "id": "42ef432d",
   "metadata": {},
   "source": [
    "### 2.2 Создание нового столбца с номером месяца на основе столбца date <a id=\"section_2_2\"></a>"
   ]
  },
  {
   "cell_type": "code",
   "execution_count": 8,
   "id": "6e95f39f",
   "metadata": {},
   "outputs": [
    {
     "data": {
      "text/plain": [
       "array([2021])"
      ]
     },
     "execution_count": 8,
     "metadata": {},
     "output_type": "execute_result"
    }
   ],
   "source": [
    "# Проверим, какие года представлены в датасете о поездках\n",
    "data_rides['date'].dt.year.unique()"
   ]
  },
  {
   "cell_type": "code",
   "execution_count": 9,
   "id": "85f7479e",
   "metadata": {},
   "outputs": [
    {
     "data": {
      "text/html": [
       "<div>\n",
       "<style scoped>\n",
       "    .dataframe tbody tr th:only-of-type {\n",
       "        vertical-align: middle;\n",
       "    }\n",
       "\n",
       "    .dataframe tbody tr th {\n",
       "        vertical-align: top;\n",
       "    }\n",
       "\n",
       "    .dataframe thead th {\n",
       "        text-align: right;\n",
       "    }\n",
       "</style>\n",
       "<table border=\"1\" class=\"dataframe\">\n",
       "  <thead>\n",
       "    <tr style=\"text-align: right;\">\n",
       "      <th></th>\n",
       "      <th>user_id</th>\n",
       "      <th>distance</th>\n",
       "      <th>duration</th>\n",
       "      <th>date</th>\n",
       "      <th>month</th>\n",
       "    </tr>\n",
       "  </thead>\n",
       "  <tbody>\n",
       "    <tr>\n",
       "      <th>0</th>\n",
       "      <td>1</td>\n",
       "      <td>4409.919140</td>\n",
       "      <td>25.599769</td>\n",
       "      <td>2021-01-01</td>\n",
       "      <td>1</td>\n",
       "    </tr>\n",
       "    <tr>\n",
       "      <th>1</th>\n",
       "      <td>1</td>\n",
       "      <td>2617.592153</td>\n",
       "      <td>15.816871</td>\n",
       "      <td>2021-01-18</td>\n",
       "      <td>1</td>\n",
       "    </tr>\n",
       "    <tr>\n",
       "      <th>2</th>\n",
       "      <td>1</td>\n",
       "      <td>754.159807</td>\n",
       "      <td>6.232113</td>\n",
       "      <td>2021-04-20</td>\n",
       "      <td>4</td>\n",
       "    </tr>\n",
       "    <tr>\n",
       "      <th>3</th>\n",
       "      <td>1</td>\n",
       "      <td>2694.783254</td>\n",
       "      <td>18.511000</td>\n",
       "      <td>2021-08-11</td>\n",
       "      <td>8</td>\n",
       "    </tr>\n",
       "    <tr>\n",
       "      <th>4</th>\n",
       "      <td>1</td>\n",
       "      <td>4028.687306</td>\n",
       "      <td>26.265803</td>\n",
       "      <td>2021-08-28</td>\n",
       "      <td>8</td>\n",
       "    </tr>\n",
       "  </tbody>\n",
       "</table>\n",
       "</div>"
      ],
      "text/plain": [
       "   user_id     distance   duration       date  month\n",
       "0        1  4409.919140  25.599769 2021-01-01      1\n",
       "1        1  2617.592153  15.816871 2021-01-18      1\n",
       "2        1   754.159807   6.232113 2021-04-20      4\n",
       "3        1  2694.783254  18.511000 2021-08-11      8\n",
       "4        1  4028.687306  26.265803 2021-08-28      8"
      ]
     },
     "execution_count": 9,
     "metadata": {},
     "output_type": "execute_result"
    }
   ],
   "source": [
    "# Добавим столбец с номером месяца\n",
    "data_rides['month'] = data_rides['date'].dt.month\n",
    "\n",
    "# Проверим \n",
    "data_rides.head()"
   ]
  },
  {
   "cell_type": "markdown",
   "id": "ee9323f0",
   "metadata": {},
   "source": [
    "### 2.3 Обработка дубликатов <a id=\"section_2_3\"></a>"
   ]
  },
  {
   "cell_type": "code",
   "execution_count": 10,
   "id": "4f1c813b",
   "metadata": {},
   "outputs": [
    {
     "data": {
      "text/plain": [
       "31"
      ]
     },
     "execution_count": 10,
     "metadata": {},
     "output_type": "execute_result"
    }
   ],
   "source": [
    "# Проверим наличие полных дубликатов, т.е. дубликатов по всем столбцам одновременно в таблице с пользователями\n",
    "data_users.duplicated().sum()"
   ]
  },
  {
   "cell_type": "code",
   "execution_count": 11,
   "id": "8bd7e6a8",
   "metadata": {},
   "outputs": [
    {
     "data": {
      "text/html": [
       "<div>\n",
       "<style scoped>\n",
       "    .dataframe tbody tr th:only-of-type {\n",
       "        vertical-align: middle;\n",
       "    }\n",
       "\n",
       "    .dataframe tbody tr th {\n",
       "        vertical-align: top;\n",
       "    }\n",
       "\n",
       "    .dataframe thead th {\n",
       "        text-align: right;\n",
       "    }\n",
       "</style>\n",
       "<table border=\"1\" class=\"dataframe\">\n",
       "  <thead>\n",
       "    <tr style=\"text-align: right;\">\n",
       "      <th></th>\n",
       "      <th>user_id</th>\n",
       "      <th>name</th>\n",
       "      <th>age</th>\n",
       "      <th>city</th>\n",
       "      <th>subscription_type</th>\n",
       "    </tr>\n",
       "  </thead>\n",
       "  <tbody>\n",
       "    <tr>\n",
       "      <th>15</th>\n",
       "      <td>16</td>\n",
       "      <td>Амалия</td>\n",
       "      <td>27</td>\n",
       "      <td>Краснодар</td>\n",
       "      <td>ultra</td>\n",
       "    </tr>\n",
       "    <tr>\n",
       "      <th>1535</th>\n",
       "      <td>16</td>\n",
       "      <td>Амалия</td>\n",
       "      <td>27</td>\n",
       "      <td>Краснодар</td>\n",
       "      <td>ultra</td>\n",
       "    </tr>\n",
       "    <tr>\n",
       "      <th>42</th>\n",
       "      <td>43</td>\n",
       "      <td>Стефания</td>\n",
       "      <td>22</td>\n",
       "      <td>Омск</td>\n",
       "      <td>ultra</td>\n",
       "    </tr>\n",
       "    <tr>\n",
       "      <th>1539</th>\n",
       "      <td>43</td>\n",
       "      <td>Стефания</td>\n",
       "      <td>22</td>\n",
       "      <td>Омск</td>\n",
       "      <td>ultra</td>\n",
       "    </tr>\n",
       "    <tr>\n",
       "      <th>1563</th>\n",
       "      <td>47</td>\n",
       "      <td>Юрий</td>\n",
       "      <td>28</td>\n",
       "      <td>Тюмень</td>\n",
       "      <td>ultra</td>\n",
       "    </tr>\n",
       "    <tr>\n",
       "      <th>...</th>\n",
       "      <td>...</td>\n",
       "      <td>...</td>\n",
       "      <td>...</td>\n",
       "      <td>...</td>\n",
       "      <td>...</td>\n",
       "    </tr>\n",
       "    <tr>\n",
       "      <th>1554</th>\n",
       "      <td>1198</td>\n",
       "      <td>Демид</td>\n",
       "      <td>29</td>\n",
       "      <td>Ростов-на-Дону</td>\n",
       "      <td>free</td>\n",
       "    </tr>\n",
       "    <tr>\n",
       "      <th>1558</th>\n",
       "      <td>1237</td>\n",
       "      <td>Евгения</td>\n",
       "      <td>23</td>\n",
       "      <td>Тюмень</td>\n",
       "      <td>free</td>\n",
       "    </tr>\n",
       "    <tr>\n",
       "      <th>1236</th>\n",
       "      <td>1237</td>\n",
       "      <td>Евгения</td>\n",
       "      <td>23</td>\n",
       "      <td>Тюмень</td>\n",
       "      <td>free</td>\n",
       "    </tr>\n",
       "    <tr>\n",
       "      <th>1544</th>\n",
       "      <td>1245</td>\n",
       "      <td>Регина</td>\n",
       "      <td>27</td>\n",
       "      <td>Пятигорск</td>\n",
       "      <td>free</td>\n",
       "    </tr>\n",
       "    <tr>\n",
       "      <th>1244</th>\n",
       "      <td>1245</td>\n",
       "      <td>Регина</td>\n",
       "      <td>27</td>\n",
       "      <td>Пятигорск</td>\n",
       "      <td>free</td>\n",
       "    </tr>\n",
       "  </tbody>\n",
       "</table>\n",
       "<p>62 rows × 5 columns</p>\n",
       "</div>"
      ],
      "text/plain": [
       "      user_id      name  age            city subscription_type\n",
       "15         16    Амалия   27       Краснодар             ultra\n",
       "1535       16    Амалия   27       Краснодар             ultra\n",
       "42         43  Стефания   22            Омск             ultra\n",
       "1539       43  Стефания   22            Омск             ultra\n",
       "1563       47      Юрий   28          Тюмень             ultra\n",
       "...       ...       ...  ...             ...               ...\n",
       "1554     1198     Демид   29  Ростов-на-Дону              free\n",
       "1558     1237   Евгения   23          Тюмень              free\n",
       "1236     1237   Евгения   23          Тюмень              free\n",
       "1544     1245    Регина   27       Пятигорск              free\n",
       "1244     1245    Регина   27       Пятигорск              free\n",
       "\n",
       "[62 rows x 5 columns]"
      ]
     },
     "execution_count": 11,
     "metadata": {},
     "output_type": "execute_result"
    }
   ],
   "source": [
    "# Посмотрим на дубликаты в отсортированном виде\n",
    "data_users[data_users.duplicated(keep=False)].sort_values(by='user_id')"
   ]
  },
  {
   "cell_type": "code",
   "execution_count": 12,
   "id": "33dd086b",
   "metadata": {},
   "outputs": [
    {
     "data": {
      "text/plain": [
       "0"
      ]
     },
     "execution_count": 12,
     "metadata": {},
     "output_type": "execute_result"
    }
   ],
   "source": [
    "# Удалим явные дубликаты, оставив первую строку\n",
    "data_users = data_users.drop_duplicates(keep='first')\n",
    "\n",
    "# Проверим количество явных дубликатов\n",
    "data_users.duplicated().sum()"
   ]
  },
  {
   "cell_type": "code",
   "execution_count": 13,
   "id": "797039cc",
   "metadata": {},
   "outputs": [
    {
     "data": {
      "text/plain": [
       "0"
      ]
     },
     "execution_count": 13,
     "metadata": {},
     "output_type": "execute_result"
    }
   ],
   "source": [
    "# Проверим наличие полных дубликатов, т.е. дубликатов по всем столбцам одновременно в таблице с поездками\n",
    "data_rides.duplicated().sum()"
   ]
  },
  {
   "cell_type": "code",
   "execution_count": 14,
   "id": "fe5099d9",
   "metadata": {},
   "outputs": [
    {
     "data": {
      "text/plain": [
       "0"
      ]
     },
     "execution_count": 14,
     "metadata": {},
     "output_type": "execute_result"
    }
   ],
   "source": [
    "# Проверим наличие полных дубликатов, т.е. дубликатов по всем столбцам одновременно в таблице с подписками\n",
    "data_subs.duplicated().sum()"
   ]
  },
  {
   "cell_type": "markdown",
   "id": "1d0277fa",
   "metadata": {},
   "source": [
    "### 2.4 Обработка пропусков <a id=\"section_2.4\"></a>"
   ]
  },
  {
   "cell_type": "markdown",
   "id": "13e59e56",
   "metadata": {},
   "source": [
    "На этапе загрузки данных мы увидели, что пропуски во всех трех таблицах отсутствуют."
   ]
  },
  {
   "cell_type": "markdown",
   "id": "4331a84d",
   "metadata": {},
   "source": [
    "### 2.5 Выводы <a id=\"section_2_5\"></a>"
   ]
  },
  {
   "cell_type": "markdown",
   "id": "51911081",
   "metadata": {},
   "source": [
    "На этапе предобоаботки данных была проделана следующая работа:\n",
    "- привели столбец date к типу даты\n",
    "- создали новый столбец с номером месяца в таблице с поездками\n",
    "- проверили на наличие дубликатов, удалили дубликаты в таблице с пользователями\n",
    "- пропуски в таблицах не обнаружили"
   ]
  },
  {
   "cell_type": "markdown",
   "id": "0579a8ba",
   "metadata": {},
   "source": [
    "## 3. Исследовательский анализ данных <a id=\"section_3\"></a>"
   ]
  },
  {
   "cell_type": "markdown",
   "id": "3794644f",
   "metadata": {},
   "source": [
    "### 3.1 Частота встречаемости городов у пользователей <a id=\"section_3_1\"></a>"
   ]
  },
  {
   "cell_type": "code",
   "execution_count": 15,
   "id": "cd418145",
   "metadata": {},
   "outputs": [
    {
     "data": {
      "text/plain": [
       "city\n",
       "Пятигорск         219\n",
       "Екатеринбург      204\n",
       "Ростов-на-Дону    198\n",
       "Краснодар         193\n",
       "Сочи              189\n",
       "Омск              183\n",
       "Тюмень            180\n",
       "Москва            168\n",
       "Name: count, dtype: int64"
      ]
     },
     "metadata": {},
     "output_type": "display_data"
    }
   ],
   "source": [
    "# Посчитаем и выведем частоту встречаемости каждого города в таблице \n",
    "count_city = data_users['city'].value_counts()\n",
    "display(count_city)"
   ]
  },
  {
   "cell_type": "code",
   "execution_count": 16,
   "id": "2d237788",
   "metadata": {},
   "outputs": [
    {
     "data": {
      "text/plain": [
       "city\n",
       "Пятигорск         14.0\n",
       "Екатеринбург      13.0\n",
       "Ростов-на-Дону    13.0\n",
       "Краснодар         13.0\n",
       "Сочи              12.0\n",
       "Омск              12.0\n",
       "Тюмень            12.0\n",
       "Москва            11.0\n",
       "Name: count, dtype: float64"
      ]
     },
     "metadata": {},
     "output_type": "display_data"
    }
   ],
   "source": [
    "# Теперь посчитаем частоту в процентах и запишем резульат в новый столбец\n",
    "count_city['rate'] = round(data_users['city'].value_counts() / count_city.sum(), 2) * 100\n",
    "display(count_city['rate'])"
   ]
  },
  {
   "cell_type": "code",
   "execution_count": 17,
   "id": "7272ad17",
   "metadata": {},
   "outputs": [
    {
     "data": {
      "image/png": "[encoded data removed]",
      "text/plain": [
       "<Figure size 900x500 with 1 Axes>"
      ]
     },
     "metadata": {},
     "output_type": "display_data"
    }
   ],
   "source": [
    "# Построим график частоты встречаемости городов у пользователей\n",
    "plt.figure(figsize=(9, 5))\n",
    "sns.countplot(x='city', data=data_users, order=data_users['city'].value_counts().index)\n",
    "plt.title('Частота встречаемости городов у пользователей', fontsize=13) \n",
    "plt.xlabel('Город', fontsize=12)  \n",
    "plt.ylabel('Частота', fontsize=12) \n",
    "\n",
    "# Добавление подписей для каждого столбца\n",
    "for i, (city, value) in enumerate(data_users['city'].value_counts().items()):\n",
    "    plt.text(i, value + 0.005, f'{value}', ha='center', fontsize=10)  # Устанавливаем размер шрифта для текста\n",
    "\n",
    "plt.xticks(rotation=45, ha='right', fontsize=12)  \n",
    "plt.yticks(fontsize=10) \n",
    "plt.show()"
   ]
  },
  {
   "cell_type": "markdown",
   "id": "70ebd2dd",
   "metadata": {},
   "source": [
    "По графику видно, что больше всего пользователей встречается из города Пятигорск. Реже всего встречаются пользователи из Москвы."
   ]
  },
  {
   "cell_type": "markdown",
   "id": "6f69eaee",
   "metadata": {},
   "source": [
    "### 3.2 Соотношение пользователей с подпиской и без подписки <a id=\"section_3_2\"></a>"
   ]
  },
  {
   "cell_type": "code",
   "execution_count": 18,
   "id": "88294f93",
   "metadata": {},
   "outputs": [
    {
     "data": {
      "image/png": "[encoded data removed]",
      "text/plain": [
       "<Figure size 800x600 with 1 Axes>"
      ]
     },
     "metadata": {},
     "output_type": "display_data"
    },
    {
     "data": {
      "text/plain": [
       "subscription_type\n",
       "free     835\n",
       "ultra    699\n",
       "Name: count, dtype: int64"
      ]
     },
     "metadata": {},
     "output_type": "display_data"
    }
   ],
   "source": [
    "# Подсчет количества пользователей с подпиской и без подписки\n",
    "count_subscription = data_users['subscription_type'].value_counts()\n",
    "\n",
    "# Создание круговой диаграммы\n",
    "plt.figure(figsize=(8, 6))\n",
    "plt.pie(count_subscription, labels=['Без подписки', 'С подпиской Ultra'], autopct='%1.1f%%', startangle=140)\n",
    "plt.title('Соотношение пользователей с подпиской и без подписки')\n",
    "plt.show()\n",
    "\n",
    "display(count_subscription)"
   ]
  },
  {
   "cell_type": "markdown",
   "id": "8f4ca990",
   "metadata": {},
   "source": [
    "По графику видно, что пользователей без подписки больше, чем с подпиской"
   ]
  },
  {
   "cell_type": "markdown",
   "id": "705d6c3a",
   "metadata": {},
   "source": [
    "### 3.3 Возраст пользователей <a id=\"section_3_3\"></a>"
   ]
  },
  {
   "cell_type": "code",
   "execution_count": 19,
   "id": "3cbb4bde",
   "metadata": {},
   "outputs": [
    {
     "data": {
      "image/png": "[encoded data removed]",
      "text/plain": [
       "<Figure size 900x500 with 1 Axes>"
      ]
     },
     "metadata": {},
     "output_type": "display_data"
    }
   ],
   "source": [
    "# Построим график распределения возраста у пользователей\n",
    "plt.figure(figsize=(9, 5))\n",
    "sns.countplot(x='age', data=data_users, order=data_users['age'].value_counts().index)\n",
    "plt.title('Возраст пользователей', fontsize=13) \n",
    "plt.xlabel('Возраст', fontsize=12)  \n",
    "plt.ylabel('Количество пользователей', fontsize=12) \n",
    "plt.xticks(rotation=45, ha='right', fontsize=10)  \n",
    "plt.yticks(fontsize=10) \n",
    "plt.show()"
   ]
  },
  {
   "cell_type": "code",
   "execution_count": 20,
   "id": "c3dd3551",
   "metadata": {},
   "outputs": [
    {
     "data": {
      "text/plain": [
       "age\n",
       "25    145\n",
       "24    132\n",
       "26    131\n",
       "23    129\n",
       "22    119\n",
       "27    119\n",
       "28    112\n",
       "21     93\n",
       "20     71\n",
       "30     68\n",
       "Name: count, dtype: int64"
      ]
     },
     "metadata": {},
     "output_type": "display_data"
    }
   ],
   "source": [
    "# Посчитаем и выведем частоту встречаемости возраста\n",
    "count_age = data_users['age'].value_counts()\n",
    "display(count_age.head(10))"
   ]
  },
  {
   "cell_type": "code",
   "execution_count": 21,
   "id": "96078662",
   "metadata": {},
   "outputs": [
    {
     "data": {
      "image/png": "[encoded data removed]",
      "text/plain": [
       "<Figure size 640x480 with 1 Axes>"
      ]
     },
     "metadata": {},
     "output_type": "display_data"
    }
   ],
   "source": [
    "# Построим гистограмму распределения возраста\n",
    "plt.hist(data_users['age'], bins = 30)\n",
    "plt.title('Возраст пользователей')\n",
    "plt.xlabel('Возраст')\n",
    "plt.ylabel('Количество пользователей')\n",
    "plt.grid()\n",
    "plt.show()"
   ]
  },
  {
   "cell_type": "code",
   "execution_count": 22,
   "id": "00daa881",
   "metadata": {},
   "outputs": [
    {
     "data": {
      "text/plain": [
       "count    1534.00\n",
       "mean       24.90\n",
       "std         4.57\n",
       "min        12.00\n",
       "25%        22.00\n",
       "50%        25.00\n",
       "75%        28.00\n",
       "max        43.00\n",
       "Name: age, dtype: float64"
      ]
     },
     "execution_count": 22,
     "metadata": {},
     "output_type": "execute_result"
    }
   ],
   "source": [
    "# Выведем основные статистические данные\n",
    "data_users['age'].describe().round(2)"
   ]
  },
  {
   "cell_type": "markdown",
   "id": "25a68e18",
   "metadata": {},
   "source": [
    "По выведенной информации и графикам видно, что больше всего подписчиков в возрасте от 22 до 28 лет. Распределение величины симметрично. Пользователи младше 15 лет и старше 40 встречаются крайне кредко."
   ]
  },
  {
   "cell_type": "markdown",
   "id": "3c0f9160",
   "metadata": {},
   "source": [
    "### 3.4 Расстояние, которое пользователь преодолел за одну поездку <a id=\"section_3_4\"></a>"
   ]
  },
  {
   "cell_type": "code",
   "execution_count": 23,
   "id": "b5aac33f",
   "metadata": {},
   "outputs": [
    {
     "data": {
      "text/plain": [
       "11555     0.86\n",
       "9541      2.57\n",
       "13690     4.33\n",
       "8658      6.78\n",
       "7841      7.10\n",
       "8906     11.28\n",
       "8324     12.23\n",
       "13940    15.00\n",
       "15626    15.37\n",
       "11862    15.63\n",
       "Name: distance, dtype: float64"
      ]
     },
     "metadata": {},
     "output_type": "display_data"
    }
   ],
   "source": [
    "# Посмотрим на самые короткие поездки (в метрах)\n",
    "display(round(data_rides['distance'].sort_values(), 2).head(10))"
   ]
  },
  {
   "cell_type": "code",
   "execution_count": 24,
   "id": "21b60190",
   "metadata": {},
   "outputs": [
    {
     "data": {
      "text/plain": [
       "16309    7211.01\n",
       "16484    7066.00\n",
       "15580    6908.49\n",
       "17171    6760.94\n",
       "17242    6724.93\n",
       "10341    6671.97\n",
       "11385    6601.20\n",
       "12086    6538.94\n",
       "10915    6535.39\n",
       "11319    6503.60\n",
       "Name: distance, dtype: float64"
      ]
     },
     "metadata": {},
     "output_type": "display_data"
    }
   ],
   "source": [
    "# Посмотрим на самые длинные поездки (в метрах)\n",
    "display(round(data_rides['distance'].sort_values(ascending=False), 2).head(10))"
   ]
  },
  {
   "cell_type": "code",
   "execution_count": 25,
   "id": "1243b56e",
   "metadata": {},
   "outputs": [
    {
     "data": {
      "image/png": "[encoded data removed]",
      "text/plain": [
       "<Figure size 640x480 with 1 Axes>"
      ]
     },
     "metadata": {},
     "output_type": "display_data"
    }
   ],
   "source": [
    "# Построим гистограмму распределения расстояния, которое пользователь преодолел за одну поездку\n",
    "plt.hist(data_rides['distance'], bins = 30)\n",
    "plt.title('Подсчет пользователей по расстоянию')\n",
    "plt.xlabel('Расстояние, м')\n",
    "plt.ylabel('Количество пользователей')\n",
    "plt.show()"
   ]
  },
  {
   "cell_type": "markdown",
   "id": "d13a8b80",
   "metadata": {},
   "source": [
    "1) На графике видны два пика, что говорит о наличии двух типов пользователей:\n",
    "    - Пользователи с короткими поездками до 1500 метров - скорее всего использующих сервис для развлечений\n",
    "    - Пользователи с длинными поездками свыше 1500 метров - возможно испопользующих сервис как замену общественному транспорту\n",
    "2) Из графика также видно, что основная масса пользователей проезжает от 1 до 5 км"
   ]
  },
  {
   "cell_type": "code",
   "execution_count": 26,
   "id": "98364ea0",
   "metadata": {},
   "outputs": [
    {
     "data": {
      "text/plain": [
       "count    18068.000000\n",
       "mean      3070.659976\n",
       "std       1116.831209\n",
       "min          0.855683\n",
       "25%       2543.226360\n",
       "50%       3133.609994\n",
       "75%       3776.222735\n",
       "max       7211.007745\n",
       "Name: distance, dtype: float64"
      ]
     },
     "metadata": {},
     "output_type": "display_data"
    }
   ],
   "source": [
    "# Статистика по величине расстояния поездок\n",
    "display(data_rides['distance'].describe().T)"
   ]
  },
  {
   "cell_type": "code",
   "execution_count": 27,
   "id": "258e33b5",
   "metadata": {},
   "outputs": [
    {
     "data": {
      "image/png": "[encoded data removed]",
      "text/plain": [
       "<Figure size 300x600 with 1 Axes>"
      ]
     },
     "metadata": {},
     "output_type": "display_data"
    }
   ],
   "source": [
    "# Построим диаграмму размаха для данной переменной\n",
    "data_rides.boxplot(column='distance', figsize=(3, 6))\n",
    "plt.title('Подсчет пользователей по расстоянию')\n",
    "plt.ylim(0, 7300)\n",
    "plt.ylabel('Расстояние, м')\n",
    "plt.show()"
   ]
  },
  {
   "cell_type": "markdown",
   "id": "91f96050",
   "metadata": {},
   "source": [
    "По диаграмме размаха и статистическим характеристикам видно, что в среднем, пользователь проезжает 3071м пути."
   ]
  },
  {
   "cell_type": "markdown",
   "id": "c941eef0",
   "metadata": {},
   "source": [
    "### 3.5 Продолжительность поездок <a id=\"section_3_5\"></a>"
   ]
  },
  {
   "cell_type": "code",
   "execution_count": 28,
   "id": "9fb6c971",
   "metadata": {},
   "outputs": [
    {
     "data": {
      "text/plain": [
       "12013    0.5\n",
       "17314    0.5\n",
       "15029    0.5\n",
       "7437     0.5\n",
       "12967    0.5\n",
       "15015    0.5\n",
       "13012    0.5\n",
       "7508     0.5\n",
       "16589    0.5\n",
       "9049     0.5\n",
       "Name: duration, dtype: float64"
      ]
     },
     "execution_count": 28,
     "metadata": {},
     "output_type": "execute_result"
    }
   ],
   "source": [
    "# Самые короткие поездки\n",
    "data_rides['duration'].sort_values().head(10)"
   ]
  },
  {
   "cell_type": "code",
   "execution_count": 29,
   "id": "483843f0",
   "metadata": {},
   "outputs": [
    {
     "data": {
      "text/plain": [
       "4215    40.823963\n",
       "4709    39.873856\n",
       "2623    39.526602\n",
       "1998    38.352763\n",
       "6453    38.265229\n",
       "143     38.125729\n",
       "3729    37.014141\n",
       "499     36.906491\n",
       "6348    36.809310\n",
       "4653    36.622595\n",
       "Name: duration, dtype: float64"
      ]
     },
     "execution_count": 29,
     "metadata": {},
     "output_type": "execute_result"
    }
   ],
   "source": [
    "# Самые долгие поездки\n",
    "data_rides['duration'].sort_values(ascending=False).head(10)"
   ]
  },
  {
   "cell_type": "code",
   "execution_count": 30,
   "id": "58f1b8d5",
   "metadata": {},
   "outputs": [
    {
     "data": {
      "text/plain": [
       "count    18068.00\n",
       "mean        17.81\n",
       "std          6.09\n",
       "min          0.50\n",
       "25%         13.60\n",
       "50%         17.68\n",
       "75%         21.72\n",
       "max         40.82\n",
       "Name: duration, dtype: float64"
      ]
     },
     "execution_count": 30,
     "metadata": {},
     "output_type": "execute_result"
    }
   ],
   "source": [
    "# Статистика по данным о продолжительности поездок\n",
    "data_rides['duration'].describe().round(2)"
   ]
  },
  {
   "cell_type": "code",
   "execution_count": 31,
   "id": "a98757cc",
   "metadata": {},
   "outputs": [
    {
     "data": {
      "image/png": "[encoded data removed]",
      "text/plain": [
       "<Figure size 300x600 with 1 Axes>"
      ]
     },
     "metadata": {},
     "output_type": "display_data"
    }
   ],
   "source": [
    "# Построим диаграмму размаха для продолжительности поездок\n",
    "data_rides.boxplot(column='duration', figsize=(3, 6))\n",
    "plt.title('Время, проведенное в поездке')\n",
    "plt.ylim(0, 45)\n",
    "plt.ylabel('Время, минуты')\n",
    "plt.show()"
   ]
  },
  {
   "cell_type": "markdown",
   "id": "36b80f6c",
   "metadata": {},
   "source": [
    "Из выведенных статистики и графика видно:\n",
    "- Самые короткие поездки длятся не больше половины минуты. Возможно пользователи так пробуют новую для себя услугу или самокат оказывается сломанным.\n",
    "- Самые длинные поездки - порядка 40 минут.\n",
    "- Среднее время поездки составляет от 14 до 22 минут."
   ]
  },
  {
   "cell_type": "markdown",
   "id": "a9fe087b",
   "metadata": {},
   "source": [
    "### 3.6 Выводы <a id=\"section_3_6\"></a>"
   ]
  },
  {
   "cell_type": "markdown",
   "id": "ef657895",
   "metadata": {},
   "source": [
    "- Больше всего пользователей встречается из города Пятигорск. Реже всего встречаются пользователи из Москвы.\n",
    "- Пользователей без подписки больше, чем с подпиской\n",
    "- Больше всего подписчиков в возрасте от 22 до 28 лет. Распределение величины симметрично. Пользователи младше 15 лет и старше 40 встречаются крайне кредко.\n",
    "- На гистограмме распределения расстояния, которое пользователь преодолел, видны два пика, что говорит о наличии двух типов пользователей:\n",
    "    - Пользователи с короткими поездками до 1500 метров - скорее всего использующих сервис для развлечений\n",
    "    - Пользователи с длинными поездками свыше 1500 метров - возможно испопользующих сервис как замену общественному транспорту\n",
    "- Основная масса пользователей проезжает от 1 до 5 км\n",
    "- Всреднем пользователь проезжает 3071м пути.\n",
    "- Самые короткие поездки длятся не больше половины минуты. Возможно пользователи так пробуют новую для себя услугу или самокат оказывается сломанным.\n",
    "- Самые длинные поездки - порядка 40 минут.\n",
    "- Среднее время поездки составляет от 14 до 22 минут."
   ]
  },
  {
   "cell_type": "markdown",
   "id": "387a21ae",
   "metadata": {},
   "source": [
    "## 4. Объединение данных <a id=\"section_4\"></a>"
   ]
  },
  {
   "cell_type": "markdown",
   "id": "fe66d31e",
   "metadata": {},
   "source": [
    "### 4.1 Объединие всех данных в один датафрейм <a id=\"section_4_1\"></a>"
   ]
  },
  {
   "cell_type": "code",
   "execution_count": 32,
   "id": "1975ca4a",
   "metadata": {},
   "outputs": [
    {
     "name": "stdout",
     "output_type": "stream",
     "text": [
      "data_users: строк 1534, столбцов 5\n",
      "data_rides: строк 18068, столбцов 5\n",
      "data_subs:  строк 2, столбцов 4\n"
     ]
    }
   ],
   "source": [
    "# Выведем размеры исходных датафреймов, до объединения\n",
    "print(f\"data_users: строк {data_users.shape[0]}, столбцов {data_users.shape[1]}\")\n",
    "print(f\"data_rides: строк {data_rides.shape[0]}, столбцов {data_rides.shape[1]}\")\n",
    "print(f\"data_subs:  строк {data_subs.shape[0]}, столбцов {data_subs.shape[1]}\")"
   ]
  },
  {
   "cell_type": "code",
   "execution_count": 33,
   "id": "490998ed",
   "metadata": {},
   "outputs": [
    {
     "name": "stdout",
     "output_type": "stream",
     "text": [
      "all_data:  строк 18068, столбцов 12\n"
     ]
    },
    {
     "data": {
      "text/html": [
       "<div>\n",
       "<style scoped>\n",
       "    .dataframe tbody tr th:only-of-type {\n",
       "        vertical-align: middle;\n",
       "    }\n",
       "\n",
       "    .dataframe tbody tr th {\n",
       "        vertical-align: top;\n",
       "    }\n",
       "\n",
       "    .dataframe thead th {\n",
       "        text-align: right;\n",
       "    }\n",
       "</style>\n",
       "<table border=\"1\" class=\"dataframe\">\n",
       "  <thead>\n",
       "    <tr style=\"text-align: right;\">\n",
       "      <th></th>\n",
       "      <th>user_id</th>\n",
       "      <th>name</th>\n",
       "      <th>age</th>\n",
       "      <th>city</th>\n",
       "      <th>subscription_type</th>\n",
       "      <th>distance</th>\n",
       "      <th>duration</th>\n",
       "      <th>date</th>\n",
       "      <th>month</th>\n",
       "      <th>minute_price</th>\n",
       "      <th>start_ride_price</th>\n",
       "      <th>subscription_fee</th>\n",
       "    </tr>\n",
       "  </thead>\n",
       "  <tbody>\n",
       "    <tr>\n",
       "      <th>0</th>\n",
       "      <td>1</td>\n",
       "      <td>Кира</td>\n",
       "      <td>22</td>\n",
       "      <td>Тюмень</td>\n",
       "      <td>ultra</td>\n",
       "      <td>4409.919140</td>\n",
       "      <td>25.599769</td>\n",
       "      <td>2021-01-01</td>\n",
       "      <td>1</td>\n",
       "      <td>6</td>\n",
       "      <td>0</td>\n",
       "      <td>199</td>\n",
       "    </tr>\n",
       "    <tr>\n",
       "      <th>1</th>\n",
       "      <td>1</td>\n",
       "      <td>Кира</td>\n",
       "      <td>22</td>\n",
       "      <td>Тюмень</td>\n",
       "      <td>ultra</td>\n",
       "      <td>2617.592153</td>\n",
       "      <td>15.816871</td>\n",
       "      <td>2021-01-18</td>\n",
       "      <td>1</td>\n",
       "      <td>6</td>\n",
       "      <td>0</td>\n",
       "      <td>199</td>\n",
       "    </tr>\n",
       "    <tr>\n",
       "      <th>2</th>\n",
       "      <td>1</td>\n",
       "      <td>Кира</td>\n",
       "      <td>22</td>\n",
       "      <td>Тюмень</td>\n",
       "      <td>ultra</td>\n",
       "      <td>754.159807</td>\n",
       "      <td>6.232113</td>\n",
       "      <td>2021-04-20</td>\n",
       "      <td>4</td>\n",
       "      <td>6</td>\n",
       "      <td>0</td>\n",
       "      <td>199</td>\n",
       "    </tr>\n",
       "    <tr>\n",
       "      <th>3</th>\n",
       "      <td>1</td>\n",
       "      <td>Кира</td>\n",
       "      <td>22</td>\n",
       "      <td>Тюмень</td>\n",
       "      <td>ultra</td>\n",
       "      <td>2694.783254</td>\n",
       "      <td>18.511000</td>\n",
       "      <td>2021-08-11</td>\n",
       "      <td>8</td>\n",
       "      <td>6</td>\n",
       "      <td>0</td>\n",
       "      <td>199</td>\n",
       "    </tr>\n",
       "    <tr>\n",
       "      <th>4</th>\n",
       "      <td>1</td>\n",
       "      <td>Кира</td>\n",
       "      <td>22</td>\n",
       "      <td>Тюмень</td>\n",
       "      <td>ultra</td>\n",
       "      <td>4028.687306</td>\n",
       "      <td>26.265803</td>\n",
       "      <td>2021-08-28</td>\n",
       "      <td>8</td>\n",
       "      <td>6</td>\n",
       "      <td>0</td>\n",
       "      <td>199</td>\n",
       "    </tr>\n",
       "  </tbody>\n",
       "</table>\n",
       "</div>"
      ],
      "text/plain": [
       "   user_id  name  age    city subscription_type     distance   duration  \\\n",
       "0        1  Кира   22  Тюмень             ultra  4409.919140  25.599769   \n",
       "1        1  Кира   22  Тюмень             ultra  2617.592153  15.816871   \n",
       "2        1  Кира   22  Тюмень             ultra   754.159807   6.232113   \n",
       "3        1  Кира   22  Тюмень             ultra  2694.783254  18.511000   \n",
       "4        1  Кира   22  Тюмень             ultra  4028.687306  26.265803   \n",
       "\n",
       "        date  month  minute_price  start_ride_price  subscription_fee  \n",
       "0 2021-01-01      1             6                 0               199  \n",
       "1 2021-01-18      1             6                 0               199  \n",
       "2 2021-04-20      4             6                 0               199  \n",
       "3 2021-08-11      8             6                 0               199  \n",
       "4 2021-08-28      8             6                 0               199  "
      ]
     },
     "execution_count": 33,
     "metadata": {},
     "output_type": "execute_result"
    }
   ],
   "source": [
    "# Сначала объединим данные о пользователях и поездках по столбцу 'user_id'\n",
    "df = data_users.merge(data_rides, on='user_id', how='left')\n",
    "\n",
    "# Затем обогатим данные подробностями о подписках\n",
    "all_data = df.merge(data_subs, on='subscription_type', how='left')\n",
    "\n",
    "# Выведем размер полученного датафрейма, после объединения данных\n",
    "print(f\"all_data:  строк {all_data.shape[0]}, столбцов {all_data.shape[1]}\")  \n",
    "\n",
    "# Выведем первые 5 строк\n",
    "all_data.head()"
   ]
  },
  {
   "cell_type": "code",
   "execution_count": 34,
   "id": "b2dfae5f",
   "metadata": {},
   "outputs": [
    {
     "name": "stdout",
     "output_type": "stream",
     "text": [
      "<class 'pandas.core.frame.DataFrame'>\n",
      "RangeIndex: 18068 entries, 0 to 18067\n",
      "Data columns (total 12 columns):\n",
      " #   Column             Non-Null Count  Dtype         \n",
      "---  ------             --------------  -----         \n",
      " 0   user_id            18068 non-null  int64         \n",
      " 1   name               18068 non-null  object        \n",
      " 2   age                18068 non-null  int64         \n",
      " 3   city               18068 non-null  object        \n",
      " 4   subscription_type  18068 non-null  object        \n",
      " 5   distance           18068 non-null  float64       \n",
      " 6   duration           18068 non-null  float64       \n",
      " 7   date               18068 non-null  datetime64[ns]\n",
      " 8   month              18068 non-null  int32         \n",
      " 9   minute_price       18068 non-null  int64         \n",
      " 10  start_ride_price   18068 non-null  int64         \n",
      " 11  subscription_fee   18068 non-null  int64         \n",
      "dtypes: datetime64[ns](1), float64(2), int32(1), int64(5), object(3)\n",
      "memory usage: 1.6+ MB\n"
     ]
    }
   ],
   "source": [
    "# Убедимся, что данные были консистентны - т.е. по каждому пользователю была информация о поездках и подписке\n",
    "all_data.info()"
   ]
  },
  {
   "cell_type": "markdown",
   "id": "450765d3",
   "metadata": {},
   "source": [
    "Из выведенной информации видно, что ни одно поле не содержит пропусков."
   ]
  },
  {
   "cell_type": "markdown",
   "id": "7c60bead",
   "metadata": {},
   "source": [
    "- В конечном датасете 18068 строк, как общее количество поездок из датасета `data_rides` - значит каждый пользователь из `data_users` совершил как минимум одну поездку.\n",
    "- Отсутствие пропусков в полученном датасете говорит о консистентности данных в исходных датасетах."
   ]
  },
  {
   "cell_type": "markdown",
   "id": "076c3fe3",
   "metadata": {},
   "source": [
    "### 4.2 Разделение данных по пользователям с подпиской и без <a id=\"section_4_2\"></a>"
   ]
  },
  {
   "cell_type": "code",
   "execution_count": 35,
   "id": "fd75a999",
   "metadata": {},
   "outputs": [
    {
     "data": {
      "text/html": [
       "<div>\n",
       "<style scoped>\n",
       "    .dataframe tbody tr th:only-of-type {\n",
       "        vertical-align: middle;\n",
       "    }\n",
       "\n",
       "    .dataframe tbody tr th {\n",
       "        vertical-align: top;\n",
       "    }\n",
       "\n",
       "    .dataframe thead th {\n",
       "        text-align: right;\n",
       "    }\n",
       "</style>\n",
       "<table border=\"1\" class=\"dataframe\">\n",
       "  <thead>\n",
       "    <tr style=\"text-align: right;\">\n",
       "      <th></th>\n",
       "      <th>index</th>\n",
       "      <th>user_id</th>\n",
       "      <th>name</th>\n",
       "      <th>age</th>\n",
       "      <th>city</th>\n",
       "      <th>subscription_type</th>\n",
       "      <th>distance</th>\n",
       "      <th>duration</th>\n",
       "      <th>date</th>\n",
       "      <th>month</th>\n",
       "      <th>minute_price</th>\n",
       "      <th>start_ride_price</th>\n",
       "      <th>subscription_fee</th>\n",
       "    </tr>\n",
       "  </thead>\n",
       "  <tbody>\n",
       "    <tr>\n",
       "      <th>0</th>\n",
       "      <td>0</td>\n",
       "      <td>1</td>\n",
       "      <td>Кира</td>\n",
       "      <td>22</td>\n",
       "      <td>Тюмень</td>\n",
       "      <td>ultra</td>\n",
       "      <td>4409.919140</td>\n",
       "      <td>25.599769</td>\n",
       "      <td>2021-01-01</td>\n",
       "      <td>1</td>\n",
       "      <td>6</td>\n",
       "      <td>0</td>\n",
       "      <td>199</td>\n",
       "    </tr>\n",
       "    <tr>\n",
       "      <th>1</th>\n",
       "      <td>1</td>\n",
       "      <td>1</td>\n",
       "      <td>Кира</td>\n",
       "      <td>22</td>\n",
       "      <td>Тюмень</td>\n",
       "      <td>ultra</td>\n",
       "      <td>2617.592153</td>\n",
       "      <td>15.816871</td>\n",
       "      <td>2021-01-18</td>\n",
       "      <td>1</td>\n",
       "      <td>6</td>\n",
       "      <td>0</td>\n",
       "      <td>199</td>\n",
       "    </tr>\n",
       "    <tr>\n",
       "      <th>2</th>\n",
       "      <td>2</td>\n",
       "      <td>1</td>\n",
       "      <td>Кира</td>\n",
       "      <td>22</td>\n",
       "      <td>Тюмень</td>\n",
       "      <td>ultra</td>\n",
       "      <td>754.159807</td>\n",
       "      <td>6.232113</td>\n",
       "      <td>2021-04-20</td>\n",
       "      <td>4</td>\n",
       "      <td>6</td>\n",
       "      <td>0</td>\n",
       "      <td>199</td>\n",
       "    </tr>\n",
       "    <tr>\n",
       "      <th>3</th>\n",
       "      <td>3</td>\n",
       "      <td>1</td>\n",
       "      <td>Кира</td>\n",
       "      <td>22</td>\n",
       "      <td>Тюмень</td>\n",
       "      <td>ultra</td>\n",
       "      <td>2694.783254</td>\n",
       "      <td>18.511000</td>\n",
       "      <td>2021-08-11</td>\n",
       "      <td>8</td>\n",
       "      <td>6</td>\n",
       "      <td>0</td>\n",
       "      <td>199</td>\n",
       "    </tr>\n",
       "    <tr>\n",
       "      <th>4</th>\n",
       "      <td>4</td>\n",
       "      <td>1</td>\n",
       "      <td>Кира</td>\n",
       "      <td>22</td>\n",
       "      <td>Тюмень</td>\n",
       "      <td>ultra</td>\n",
       "      <td>4028.687306</td>\n",
       "      <td>26.265803</td>\n",
       "      <td>2021-08-28</td>\n",
       "      <td>8</td>\n",
       "      <td>6</td>\n",
       "      <td>0</td>\n",
       "      <td>199</td>\n",
       "    </tr>\n",
       "  </tbody>\n",
       "</table>\n",
       "</div>"
      ],
      "text/plain": [
       "   index  user_id  name  age    city subscription_type     distance  \\\n",
       "0      0        1  Кира   22  Тюмень             ultra  4409.919140   \n",
       "1      1        1  Кира   22  Тюмень             ultra  2617.592153   \n",
       "2      2        1  Кира   22  Тюмень             ultra   754.159807   \n",
       "3      3        1  Кира   22  Тюмень             ultra  2694.783254   \n",
       "4      4        1  Кира   22  Тюмень             ultra  4028.687306   \n",
       "\n",
       "    duration       date  month  minute_price  start_ride_price  \\\n",
       "0  25.599769 2021-01-01      1             6                 0   \n",
       "1  15.816871 2021-01-18      1             6                 0   \n",
       "2   6.232113 2021-04-20      4             6                 0   \n",
       "3  18.511000 2021-08-11      8             6                 0   \n",
       "4  26.265803 2021-08-28      8             6                 0   \n",
       "\n",
       "   subscription_fee  \n",
       "0               199  \n",
       "1               199  \n",
       "2               199  \n",
       "3               199  \n",
       "4               199  "
      ]
     },
     "execution_count": 35,
     "metadata": {},
     "output_type": "execute_result"
    }
   ],
   "source": [
    "# Вынесем пользователей с подпиской \"ultra\" в отдельный датасет\n",
    "users_ultra = all_data.query('subscription_type == \"ultra\"').reset_index()\n",
    "users_ultra.head()"
   ]
  },
  {
   "cell_type": "code",
   "execution_count": 36,
   "id": "caeb3557",
   "metadata": {},
   "outputs": [
    {
     "data": {
      "text/html": [
       "<div>\n",
       "<style scoped>\n",
       "    .dataframe tbody tr th:only-of-type {\n",
       "        vertical-align: middle;\n",
       "    }\n",
       "\n",
       "    .dataframe tbody tr th {\n",
       "        vertical-align: top;\n",
       "    }\n",
       "\n",
       "    .dataframe thead th {\n",
       "        text-align: right;\n",
       "    }\n",
       "</style>\n",
       "<table border=\"1\" class=\"dataframe\">\n",
       "  <thead>\n",
       "    <tr style=\"text-align: right;\">\n",
       "      <th></th>\n",
       "      <th>index</th>\n",
       "      <th>user_id</th>\n",
       "      <th>name</th>\n",
       "      <th>age</th>\n",
       "      <th>city</th>\n",
       "      <th>subscription_type</th>\n",
       "      <th>distance</th>\n",
       "      <th>duration</th>\n",
       "      <th>date</th>\n",
       "      <th>month</th>\n",
       "      <th>minute_price</th>\n",
       "      <th>start_ride_price</th>\n",
       "      <th>subscription_fee</th>\n",
       "    </tr>\n",
       "  </thead>\n",
       "  <tbody>\n",
       "    <tr>\n",
       "      <th>0</th>\n",
       "      <td>6500</td>\n",
       "      <td>700</td>\n",
       "      <td>Айдар</td>\n",
       "      <td>22</td>\n",
       "      <td>Омск</td>\n",
       "      <td>free</td>\n",
       "      <td>2515.690719</td>\n",
       "      <td>14.944286</td>\n",
       "      <td>2021-01-02</td>\n",
       "      <td>1</td>\n",
       "      <td>8</td>\n",
       "      <td>50</td>\n",
       "      <td>0</td>\n",
       "    </tr>\n",
       "    <tr>\n",
       "      <th>1</th>\n",
       "      <td>6501</td>\n",
       "      <td>700</td>\n",
       "      <td>Айдар</td>\n",
       "      <td>22</td>\n",
       "      <td>Омск</td>\n",
       "      <td>free</td>\n",
       "      <td>846.932642</td>\n",
       "      <td>16.234663</td>\n",
       "      <td>2021-02-01</td>\n",
       "      <td>2</td>\n",
       "      <td>8</td>\n",
       "      <td>50</td>\n",
       "      <td>0</td>\n",
       "    </tr>\n",
       "    <tr>\n",
       "      <th>2</th>\n",
       "      <td>6502</td>\n",
       "      <td>700</td>\n",
       "      <td>Айдар</td>\n",
       "      <td>22</td>\n",
       "      <td>Омск</td>\n",
       "      <td>free</td>\n",
       "      <td>4004.434142</td>\n",
       "      <td>20.016628</td>\n",
       "      <td>2021-02-04</td>\n",
       "      <td>2</td>\n",
       "      <td>8</td>\n",
       "      <td>50</td>\n",
       "      <td>0</td>\n",
       "    </tr>\n",
       "    <tr>\n",
       "      <th>3</th>\n",
       "      <td>6503</td>\n",
       "      <td>700</td>\n",
       "      <td>Айдар</td>\n",
       "      <td>22</td>\n",
       "      <td>Омск</td>\n",
       "      <td>free</td>\n",
       "      <td>1205.911290</td>\n",
       "      <td>9.782872</td>\n",
       "      <td>2021-02-10</td>\n",
       "      <td>2</td>\n",
       "      <td>8</td>\n",
       "      <td>50</td>\n",
       "      <td>0</td>\n",
       "    </tr>\n",
       "    <tr>\n",
       "      <th>4</th>\n",
       "      <td>6504</td>\n",
       "      <td>700</td>\n",
       "      <td>Айдар</td>\n",
       "      <td>22</td>\n",
       "      <td>Омск</td>\n",
       "      <td>free</td>\n",
       "      <td>3047.379435</td>\n",
       "      <td>17.427673</td>\n",
       "      <td>2021-02-14</td>\n",
       "      <td>2</td>\n",
       "      <td>8</td>\n",
       "      <td>50</td>\n",
       "      <td>0</td>\n",
       "    </tr>\n",
       "  </tbody>\n",
       "</table>\n",
       "</div>"
      ],
      "text/plain": [
       "   index  user_id   name  age  city subscription_type     distance   duration  \\\n",
       "0   6500      700  Айдар   22  Омск              free  2515.690719  14.944286   \n",
       "1   6501      700  Айдар   22  Омск              free   846.932642  16.234663   \n",
       "2   6502      700  Айдар   22  Омск              free  4004.434142  20.016628   \n",
       "3   6503      700  Айдар   22  Омск              free  1205.911290   9.782872   \n",
       "4   6504      700  Айдар   22  Омск              free  3047.379435  17.427673   \n",
       "\n",
       "        date  month  minute_price  start_ride_price  subscription_fee  \n",
       "0 2021-01-02      1             8                50                 0  \n",
       "1 2021-02-01      2             8                50                 0  \n",
       "2 2021-02-04      2             8                50                 0  \n",
       "3 2021-02-10      2             8                50                 0  \n",
       "4 2021-02-14      2             8                50                 0  "
      ]
     },
     "execution_count": 36,
     "metadata": {},
     "output_type": "execute_result"
    }
   ],
   "source": [
    "# В другой датасет вынесем пользователей без подписки\n",
    "users_free = all_data.query('subscription_type == \"free\"').reset_index()\n",
    "users_free.head()"
   ]
  },
  {
   "cell_type": "code",
   "execution_count": 37,
   "id": "e17c3731",
   "metadata": {},
   "outputs": [
    {
     "name": "stdout",
     "output_type": "stream",
     "text": [
      "users_ultra: строк 6500, столбцов 13\n",
      "users_free: строк 11568, столбцов 13\n"
     ]
    }
   ],
   "source": [
    "# Посмотрим размеры полученных датафреймов\n",
    "print(f\"users_ultra: строк {users_ultra.shape[0]}, столбцов {users_ultra.shape[1]}\")\n",
    "print(f\"users_free: строк {users_free.shape[0]}, столбцов {users_free.shape[1]}\")"
   ]
  },
  {
   "cell_type": "markdown",
   "id": "d41452f2",
   "metadata": {},
   "source": [
    "После зазделения общей информации о пользователях по наличию подписки, мы получили два датасета:\n",
    "- Датасет на 6500 строк с информацией о пользователях с платной подпиской\n",
    "- Датасет на 11568 строк с информацией о пользователях без платной подписки"
   ]
  },
  {
   "cell_type": "markdown",
   "id": "0a36cd93",
   "metadata": {},
   "source": [
    "### 4.3 Визуализация информации <a id=\"section_4_3\"></a>"
   ]
  },
  {
   "cell_type": "markdown",
   "id": "e6148c3a",
   "metadata": {},
   "source": [
    "#### 4.3.1 Расстояние поездок для пользователей с подпиской и без <a id=\"section_4_3_1\"></a>"
   ]
  },
  {
   "cell_type": "code",
   "execution_count": 38,
   "id": "920549e7",
   "metadata": {},
   "outputs": [
    {
     "data": {
      "image/png": "[encoded data removed]",
      "text/plain": [
       "<Figure size 1000x400 with 1 Axes>"
      ]
     },
     "metadata": {},
     "output_type": "display_data"
    }
   ],
   "source": [
    "# Построим график распределения расстояния поездок для пользователей с подпиской и без\n",
    "plt.figure(figsize=(10, 4))\n",
    "sns.histplot(users_ultra['distance'], bins=50, kde=True, color='skyblue', alpha=1, label='С подпиской: ultra')\n",
    "sns.histplot(users_free['distance'], bins=50, kde=True, color='lightcoral', alpha=0.1, label='Без подписки: free')\n",
    "plt.title('Распределение расстояния поездок для пользователей с подпиской и без', fontsize=14)\n",
    "plt.xlabel('Расстояние поездки, м', fontsize=10)\n",
    "plt.ylabel('Частота', fontsize=10)\n",
    "plt.legend(title='Тип подписки', title_fontsize='10')\n",
    "plt.show()"
   ]
  },
  {
   "cell_type": "code",
   "execution_count": 39,
   "id": "edc686f7",
   "metadata": {},
   "outputs": [
    {
     "data": {
      "text/plain": [
       "count    6500.00\n",
       "mean     3115.45\n",
       "std       836.90\n",
       "min       244.21\n",
       "25%      2785.44\n",
       "50%      3148.64\n",
       "75%      3560.57\n",
       "max      5699.77\n",
       "Name: distance, dtype: float64"
      ]
     },
     "execution_count": 39,
     "metadata": {},
     "output_type": "execute_result"
    }
   ],
   "source": [
    "# Статистика по данным о расстояниях поездок для пользователей с подпиской\n",
    "users_ultra['distance'].describe().round(2)"
   ]
  },
  {
   "cell_type": "code",
   "execution_count": 40,
   "id": "0275d450",
   "metadata": {},
   "outputs": [
    {
     "data": {
      "text/plain": [
       "count    11568.00\n",
       "mean      3045.50\n",
       "std       1246.17\n",
       "min          0.86\n",
       "25%       2366.56\n",
       "50%       3114.65\n",
       "75%       3905.70\n",
       "max       7211.01\n",
       "Name: distance, dtype: float64"
      ]
     },
     "execution_count": 40,
     "metadata": {},
     "output_type": "execute_result"
    }
   ],
   "source": [
    "# Статистика по данным о расстояниях поездок  для пользователей без подписки\n",
    "users_free['distance'].describe().round(2)"
   ]
  },
  {
   "cell_type": "code",
   "execution_count": 41,
   "id": "48497e7f",
   "metadata": {},
   "outputs": [
    {
     "data": {
      "image/png": "[encoded data removed]",
      "text/plain": [
       "<Figure size 700x500 with 2 Axes>"
      ]
     },
     "metadata": {},
     "output_type": "display_data"
    }
   ],
   "source": [
    "# Построим диаграмму размаха для расстояния поездок для пользователей с и без подписки\n",
    "fig, ax = plt.subplots(1, 2, figsize=(7, 5))\n",
    "\n",
    "ax[0].boxplot(users_ultra['distance'])\n",
    "ax[0].set_title('Пользователи с подпиской', fontsize=10)\n",
    "ax[0].set_ylabel('Расстояние поездки, м')\n",
    "ax[0].set_ylim(0, 7300)\n",
    "\n",
    "ax[1].boxplot(users_free['distance'])\n",
    "ax[1].set_title('Пользователи без подписки', fontsize=10)\n",
    "ax[1].set_ylabel('Расстояние поездки, м')\n",
    "ax[1].set_ylim(0, 7300)\n",
    "\n",
    "plt.suptitle('Расстояния поездок', fontsize=12)\n",
    "fig.subplots_adjust(left=0.08, right=0.98, bottom=0.05, top=0.9,\n",
    "                    hspace=0.4, wspace=0.3)\n",
    "plt.show()"
   ]
  },
  {
   "cell_type": "markdown",
   "id": "8bdf6cec",
   "metadata": {},
   "source": [
    "- Данные с подпиской имеют уже диапазон расстояния поездок, нежели без подписки. \n",
    "- У пользователей без подписки значительно больше коротких поездок - до 1 км и в целом максимальная дальность поездки выше, чем у платных пользователей. \n",
    "- Данные с подпиской имеют также 2 пика как и у данных без подписки, но первый пик при этом не так ярко выражен как у пользователей без подписки.\n",
    "- Медианное значение расстояния поездки для пользователей с подпиской - 3115.45 м.\n",
    "- Медианное значение расстояния поездки для пользователей без поездки - 3045.50 м."
   ]
  },
  {
   "cell_type": "markdown",
   "id": "d7956281",
   "metadata": {},
   "source": [
    "#### 4.3.2 Время поездок для пользователей с подпиской и без <a id=\"section_4_3_2\"></a>"
   ]
  },
  {
   "cell_type": "code",
   "execution_count": 42,
   "id": "d3a684e2",
   "metadata": {},
   "outputs": [
    {
     "data": {
      "image/png": "[encoded data removed]",
      "text/plain": [
       "<Figure size 1000x400 with 1 Axes>"
      ]
     },
     "metadata": {},
     "output_type": "display_data"
    }
   ],
   "source": [
    "# Построим график распределения расстояния поездок для пользователей с подпиской и без\n",
    "plt.figure(figsize=(10, 4))\n",
    "sns.histplot(users_ultra['duration'], bins=50, kde=True, color='skyblue', alpha=1, label='С подпиской')\n",
    "sns.histplot(users_free['duration'], bins=50, kde=True, color='lightcoral', alpha=0.1, label='Без подписки')\n",
    "plt.title('Распределение длительности поездок для пользователей с подпиской и без', fontsize=14)\n",
    "plt.xlabel('Длительность поездки, м', fontsize=10)\n",
    "plt.ylabel('Частота', fontsize=10)\n",
    "plt.legend(title='Тип подписки', title_fontsize='10')\n",
    "plt.show()"
   ]
  },
  {
   "cell_type": "markdown",
   "id": "8f168f8b",
   "metadata": {},
   "source": [
    "- На графике видно, что для пользователей с подпиской характерно бОльшее количество длинных поездок.\n",
    "- У пользователей с подпиской распределение длительности поездок имеет более ярко выраженный хвост в сторону длительных поездок - до 40 минут. \n",
    "- У пользователей с подпиской короткие поездки начинаются с 4 минут\n",
    "- У пользователей без подписки короткие поездки начинаются от 1 минуты."
   ]
  },
  {
   "cell_type": "code",
   "execution_count": 43,
   "id": "d535509a",
   "metadata": {},
   "outputs": [
    {
     "data": {
      "text/plain": [
       "count    6500.00\n",
       "mean       18.54\n",
       "std         5.57\n",
       "min         3.76\n",
       "25%        14.52\n",
       "50%        18.18\n",
       "75%        21.88\n",
       "max        40.82\n",
       "Name: duration, dtype: float64"
      ]
     },
     "execution_count": 43,
     "metadata": {},
     "output_type": "execute_result"
    }
   ],
   "source": [
    "# Статистика по данным о длительности поездок для пользователей с подпиской\n",
    "users_ultra['duration'].describe().round(2)"
   ]
  },
  {
   "cell_type": "code",
   "execution_count": 44,
   "id": "fabb3f4a",
   "metadata": {},
   "outputs": [
    {
     "data": {
      "text/plain": [
       "count    11568.00\n",
       "mean        17.39\n",
       "std          6.33\n",
       "min          0.50\n",
       "25%         12.96\n",
       "50%         17.33\n",
       "75%         21.59\n",
       "max         34.95\n",
       "Name: duration, dtype: float64"
      ]
     },
     "execution_count": 44,
     "metadata": {},
     "output_type": "execute_result"
    }
   ],
   "source": [
    "# Статистика по данным о длительности поездок для пользователей без подписки\n",
    "users_free['duration'].describe().round(2)"
   ]
  },
  {
   "cell_type": "code",
   "execution_count": 45,
   "id": "7674b33d",
   "metadata": {},
   "outputs": [
    {
     "data": {
      "image/png": "[encoded data removed]",
      "text/plain": [
       "<Figure size 700x500 with 2 Axes>"
      ]
     },
     "metadata": {},
     "output_type": "display_data"
    }
   ],
   "source": [
    "# Построим диаграмму размаха для длительности поездок для пользователей с и без подписки\n",
    "fig, ax = plt.subplots(1, 2, figsize=(7, 5))\n",
    "\n",
    "ax[0].boxplot(users_ultra['duration'])\n",
    "ax[0].set_title('Пользователи с подпиской', fontsize=10)\n",
    "ax[0].set_ylabel('Длительность поездки, мин')\n",
    "ax[0].set_ylim(0, 42)\n",
    "\n",
    "ax[1].boxplot(users_free['duration'])\n",
    "ax[1].set_title('Пользователи без подписки', fontsize=10)\n",
    "ax[1].set_ylabel('Длительность поездки, мин')\n",
    "ax[1].set_ylim(0, 42)\n",
    "\n",
    "plt.suptitle('Длительность поездок', fontsize=12)\n",
    "fig.subplots_adjust(left=0.08, right=0.98, bottom=0.05, top=0.9,\n",
    "                    hspace=0.4, wspace=0.3)\n",
    "plt.show()"
   ]
  },
  {
   "cell_type": "markdown",
   "id": "3b3244e7",
   "metadata": {},
   "source": [
    "На диаграммах размаха продолжительности поездок видно:\n",
    "- Для пользователей с подпиской и без медианные значения длительности поездок достаточно близки - 18.54 и 17.39 минут соответственно. \n",
    "- Большая часть данных сосредоточена в диапазоне примерно от 15 до 22 минут у пользователей с подпиской и в диапазоне от 13 до 22 минут у пользователей без подписки."
   ]
  },
  {
   "cell_type": "markdown",
   "id": "3cc52f42",
   "metadata": {},
   "source": [
    "### 4.4 Выводы <a id=\"section_4_4\"></a>"
   ]
  },
  {
   "cell_type": "markdown",
   "id": "ee71d71f",
   "metadata": {},
   "source": [
    "- Для пользователей с подпиской характерно большее количество длинных поездок.\n",
    "- У пользователей с подпиской распределение длительности поездок имеет более ярко выраженный хвост в сторону длительных поездок - до 40 минут. \n",
    "- У пользователей с подпиской короткие поездки начинаются с 4 минут\n",
    "- У пользователей без подписки короткие поездки начинаются от 1 минуты.\n",
    "- Для пользователей с подпиской и без медианные значения длительности поездок достаточно близки - 18.54 и 17.39 минут соответственно. \n",
    "- Большая часть данных по длительности поездок сосредоточена в диапазоне примерно от 15 до 22 минут у пользователей с подпиской и в диапазоне от 13 до 22 минут у пользователей без подписки."
   ]
  },
  {
   "cell_type": "markdown",
   "id": "86a9eb4e",
   "metadata": {},
   "source": [
    "## 5. Подсчёт выручки <a id=\"section_5\"></a>"
   ]
  },
  {
   "cell_type": "markdown",
   "id": "e1991ff7",
   "metadata": {},
   "source": [
    "### 5.1 Помесячная агрегация данных<a id=\"section_5_1\"></a>"
   ]
  },
  {
   "cell_type": "markdown",
   "id": "5ec773ae",
   "metadata": {},
   "source": [
    "Создадим датафрейм с агрегированными данными о поездках для каждого пользователя за каждый месяц на основе датафрейма с объединёнными данными:\n",
    "- суммарное расстояние\n",
    "- количество поездок\n",
    "- суммарное время"
   ]
  },
  {
   "cell_type": "code",
   "execution_count": 46,
   "id": "8763fba6",
   "metadata": {},
   "outputs": [
    {
     "data": {
      "text/html": [
       "<div>\n",
       "<style scoped>\n",
       "    .dataframe tbody tr th:only-of-type {\n",
       "        vertical-align: middle;\n",
       "    }\n",
       "\n",
       "    .dataframe tbody tr th {\n",
       "        vertical-align: top;\n",
       "    }\n",
       "\n",
       "    .dataframe thead th {\n",
       "        text-align: right;\n",
       "    }\n",
       "</style>\n",
       "<table border=\"1\" class=\"dataframe\">\n",
       "  <thead>\n",
       "    <tr style=\"text-align: right;\">\n",
       "      <th></th>\n",
       "      <th>user_id</th>\n",
       "      <th>name</th>\n",
       "      <th>age</th>\n",
       "      <th>city</th>\n",
       "      <th>subscription_type</th>\n",
       "      <th>distance</th>\n",
       "      <th>duration</th>\n",
       "      <th>date</th>\n",
       "      <th>month</th>\n",
       "      <th>minute_price</th>\n",
       "      <th>start_ride_price</th>\n",
       "      <th>subscription_fee</th>\n",
       "    </tr>\n",
       "  </thead>\n",
       "  <tbody>\n",
       "    <tr>\n",
       "      <th>0</th>\n",
       "      <td>1</td>\n",
       "      <td>Кира</td>\n",
       "      <td>22</td>\n",
       "      <td>Тюмень</td>\n",
       "      <td>ultra</td>\n",
       "      <td>4409.919140</td>\n",
       "      <td>26</td>\n",
       "      <td>2021-01-01</td>\n",
       "      <td>1</td>\n",
       "      <td>6</td>\n",
       "      <td>0</td>\n",
       "      <td>199</td>\n",
       "    </tr>\n",
       "    <tr>\n",
       "      <th>1</th>\n",
       "      <td>1</td>\n",
       "      <td>Кира</td>\n",
       "      <td>22</td>\n",
       "      <td>Тюмень</td>\n",
       "      <td>ultra</td>\n",
       "      <td>2617.592153</td>\n",
       "      <td>16</td>\n",
       "      <td>2021-01-18</td>\n",
       "      <td>1</td>\n",
       "      <td>6</td>\n",
       "      <td>0</td>\n",
       "      <td>199</td>\n",
       "    </tr>\n",
       "    <tr>\n",
       "      <th>2</th>\n",
       "      <td>1</td>\n",
       "      <td>Кира</td>\n",
       "      <td>22</td>\n",
       "      <td>Тюмень</td>\n",
       "      <td>ultra</td>\n",
       "      <td>754.159807</td>\n",
       "      <td>7</td>\n",
       "      <td>2021-04-20</td>\n",
       "      <td>4</td>\n",
       "      <td>6</td>\n",
       "      <td>0</td>\n",
       "      <td>199</td>\n",
       "    </tr>\n",
       "    <tr>\n",
       "      <th>3</th>\n",
       "      <td>1</td>\n",
       "      <td>Кира</td>\n",
       "      <td>22</td>\n",
       "      <td>Тюмень</td>\n",
       "      <td>ultra</td>\n",
       "      <td>2694.783254</td>\n",
       "      <td>19</td>\n",
       "      <td>2021-08-11</td>\n",
       "      <td>8</td>\n",
       "      <td>6</td>\n",
       "      <td>0</td>\n",
       "      <td>199</td>\n",
       "    </tr>\n",
       "    <tr>\n",
       "      <th>4</th>\n",
       "      <td>1</td>\n",
       "      <td>Кира</td>\n",
       "      <td>22</td>\n",
       "      <td>Тюмень</td>\n",
       "      <td>ultra</td>\n",
       "      <td>4028.687306</td>\n",
       "      <td>27</td>\n",
       "      <td>2021-08-28</td>\n",
       "      <td>8</td>\n",
       "      <td>6</td>\n",
       "      <td>0</td>\n",
       "      <td>199</td>\n",
       "    </tr>\n",
       "  </tbody>\n",
       "</table>\n",
       "</div>"
      ],
      "text/plain": [
       "   user_id  name  age    city subscription_type     distance  duration  \\\n",
       "0        1  Кира   22  Тюмень             ultra  4409.919140        26   \n",
       "1        1  Кира   22  Тюмень             ultra  2617.592153        16   \n",
       "2        1  Кира   22  Тюмень             ultra   754.159807         7   \n",
       "3        1  Кира   22  Тюмень             ultra  2694.783254        19   \n",
       "4        1  Кира   22  Тюмень             ultra  4028.687306        27   \n",
       "\n",
       "        date  month  minute_price  start_ride_price  subscription_fee  \n",
       "0 2021-01-01      1             6                 0               199  \n",
       "1 2021-01-18      1             6                 0               199  \n",
       "2 2021-04-20      4             6                 0               199  \n",
       "3 2021-08-11      8             6                 0               199  \n",
       "4 2021-08-28      8             6                 0               199  "
      ]
     },
     "execution_count": 46,
     "metadata": {},
     "output_type": "execute_result"
    }
   ],
   "source": [
    "# Предварительно округлим до целого в большую сторону длительность каждой поездки\n",
    "all_data['duration'] = np.ceil(all_data['duration']).astype(int)\n",
    "all_data.head()"
   ]
  },
  {
   "cell_type": "code",
   "execution_count": 47,
   "id": "fad45ec8",
   "metadata": {},
   "outputs": [
    {
     "data": {
      "text/html": [
       "<div>\n",
       "<style scoped>\n",
       "    .dataframe tbody tr th:only-of-type {\n",
       "        vertical-align: middle;\n",
       "    }\n",
       "\n",
       "    .dataframe tbody tr th {\n",
       "        vertical-align: top;\n",
       "    }\n",
       "\n",
       "    .dataframe thead th {\n",
       "        text-align: right;\n",
       "    }\n",
       "</style>\n",
       "<table border=\"1\" class=\"dataframe\">\n",
       "  <thead>\n",
       "    <tr style=\"text-align: right;\">\n",
       "      <th></th>\n",
       "      <th>user_id</th>\n",
       "      <th>name</th>\n",
       "      <th>age</th>\n",
       "      <th>city</th>\n",
       "      <th>subscription_type</th>\n",
       "      <th>month</th>\n",
       "      <th>minute_price</th>\n",
       "      <th>start_ride_price</th>\n",
       "      <th>subscription_fee</th>\n",
       "      <th>distance_sum</th>\n",
       "      <th>duration_sum</th>\n",
       "      <th>trips_count</th>\n",
       "    </tr>\n",
       "  </thead>\n",
       "  <tbody>\n",
       "    <tr>\n",
       "      <th>0</th>\n",
       "      <td>1</td>\n",
       "      <td>Кира</td>\n",
       "      <td>22</td>\n",
       "      <td>Тюмень</td>\n",
       "      <td>ultra</td>\n",
       "      <td>1</td>\n",
       "      <td>6</td>\n",
       "      <td>0</td>\n",
       "      <td>199</td>\n",
       "      <td>7027.511294</td>\n",
       "      <td>42</td>\n",
       "      <td>2</td>\n",
       "    </tr>\n",
       "    <tr>\n",
       "      <th>1</th>\n",
       "      <td>1</td>\n",
       "      <td>Кира</td>\n",
       "      <td>22</td>\n",
       "      <td>Тюмень</td>\n",
       "      <td>ultra</td>\n",
       "      <td>4</td>\n",
       "      <td>6</td>\n",
       "      <td>0</td>\n",
       "      <td>199</td>\n",
       "      <td>754.159807</td>\n",
       "      <td>7</td>\n",
       "      <td>1</td>\n",
       "    </tr>\n",
       "    <tr>\n",
       "      <th>2</th>\n",
       "      <td>1</td>\n",
       "      <td>Кира</td>\n",
       "      <td>22</td>\n",
       "      <td>Тюмень</td>\n",
       "      <td>ultra</td>\n",
       "      <td>8</td>\n",
       "      <td>6</td>\n",
       "      <td>0</td>\n",
       "      <td>199</td>\n",
       "      <td>6723.470560</td>\n",
       "      <td>46</td>\n",
       "      <td>2</td>\n",
       "    </tr>\n",
       "    <tr>\n",
       "      <th>3</th>\n",
       "      <td>1</td>\n",
       "      <td>Кира</td>\n",
       "      <td>22</td>\n",
       "      <td>Тюмень</td>\n",
       "      <td>ultra</td>\n",
       "      <td>10</td>\n",
       "      <td>6</td>\n",
       "      <td>0</td>\n",
       "      <td>199</td>\n",
       "      <td>5809.911100</td>\n",
       "      <td>32</td>\n",
       "      <td>2</td>\n",
       "    </tr>\n",
       "    <tr>\n",
       "      <th>4</th>\n",
       "      <td>1</td>\n",
       "      <td>Кира</td>\n",
       "      <td>22</td>\n",
       "      <td>Тюмень</td>\n",
       "      <td>ultra</td>\n",
       "      <td>11</td>\n",
       "      <td>6</td>\n",
       "      <td>0</td>\n",
       "      <td>199</td>\n",
       "      <td>7003.499363</td>\n",
       "      <td>56</td>\n",
       "      <td>3</td>\n",
       "    </tr>\n",
       "  </tbody>\n",
       "</table>\n",
       "</div>"
      ],
      "text/plain": [
       "   user_id  name  age    city subscription_type  month  minute_price  \\\n",
       "0        1  Кира   22  Тюмень             ultra      1             6   \n",
       "1        1  Кира   22  Тюмень             ultra      4             6   \n",
       "2        1  Кира   22  Тюмень             ultra      8             6   \n",
       "3        1  Кира   22  Тюмень             ultra     10             6   \n",
       "4        1  Кира   22  Тюмень             ultra     11             6   \n",
       "\n",
       "   start_ride_price  subscription_fee  distance_sum  duration_sum  trips_count  \n",
       "0                 0               199   7027.511294            42            2  \n",
       "1                 0               199    754.159807             7            1  \n",
       "2                 0               199   6723.470560            46            2  \n",
       "3                 0               199   5809.911100            32            2  \n",
       "4                 0               199   7003.499363            56            3  "
      ]
     },
     "execution_count": 47,
     "metadata": {},
     "output_type": "execute_result"
    }
   ],
   "source": [
    "# Агрегируем данные о поездках для каждого пользователя за каждый месяц\n",
    "all_data_agg = all_data.groupby(\n",
    "        ['user_id', 'name', 'age', 'city', 'subscription_type', 'month', \n",
    "         'minute_price', 'start_ride_price', 'subscription_fee']\n",
    "    ).agg({\n",
    "        'distance': 'sum',  # Суммарное расстояние за месяц\n",
    "        'duration': 'sum',  # Суммарная длительность всех поездок за месяц\n",
    "        'date': 'count'     # Количество поездок за месяц\n",
    "    }).reset_index()\n",
    "\n",
    "\n",
    "# Переименуем столбцы\n",
    "all_data_agg.rename(columns={\n",
    "    'distance': 'distance_sum',\n",
    "    'duration': 'duration_sum',\n",
    "    'date': 'trips_count'\n",
    "}, inplace=True)\n",
    "\n",
    "all_data_agg.head()"
   ]
  },
  {
   "cell_type": "markdown",
   "id": "dd44b947",
   "metadata": {},
   "source": [
    "### 5.2 Помесячная выручка<a id=\"section_5_2\"></a>"
   ]
  },
  {
   "cell_type": "markdown",
   "id": "f2854b05",
   "metadata": {},
   "source": [
    "Добавим в датафрейм столбец с помесячной выручкой, которую принёс каждый пользователь. \n",
    "\n",
    "Помесячная выручка считается по формуле: `стоимость старта поездки` х `количество поездок` + `стоимость одной минуты поездки` × `общая продолжительность всех поездок в минутах` + `стоимость подписки`."
   ]
  },
  {
   "cell_type": "code",
   "execution_count": 48,
   "id": "22848934",
   "metadata": {},
   "outputs": [
    {
     "data": {
      "text/html": [
       "<div>\n",
       "<style scoped>\n",
       "    .dataframe tbody tr th:only-of-type {\n",
       "        vertical-align: middle;\n",
       "    }\n",
       "\n",
       "    .dataframe tbody tr th {\n",
       "        vertical-align: top;\n",
       "    }\n",
       "\n",
       "    .dataframe thead th {\n",
       "        text-align: right;\n",
       "    }\n",
       "</style>\n",
       "<table border=\"1\" class=\"dataframe\">\n",
       "  <thead>\n",
       "    <tr style=\"text-align: right;\">\n",
       "      <th></th>\n",
       "      <th>user_id</th>\n",
       "      <th>name</th>\n",
       "      <th>age</th>\n",
       "      <th>city</th>\n",
       "      <th>subscription_type</th>\n",
       "      <th>month</th>\n",
       "      <th>minute_price</th>\n",
       "      <th>start_ride_price</th>\n",
       "      <th>subscription_fee</th>\n",
       "      <th>distance_sum</th>\n",
       "      <th>duration_sum</th>\n",
       "      <th>trips_count</th>\n",
       "      <th>income</th>\n",
       "    </tr>\n",
       "  </thead>\n",
       "  <tbody>\n",
       "    <tr>\n",
       "      <th>0</th>\n",
       "      <td>1</td>\n",
       "      <td>Кира</td>\n",
       "      <td>22</td>\n",
       "      <td>Тюмень</td>\n",
       "      <td>ultra</td>\n",
       "      <td>1</td>\n",
       "      <td>6</td>\n",
       "      <td>0</td>\n",
       "      <td>199</td>\n",
       "      <td>7027.511294</td>\n",
       "      <td>42</td>\n",
       "      <td>2</td>\n",
       "      <td>451</td>\n",
       "    </tr>\n",
       "    <tr>\n",
       "      <th>1</th>\n",
       "      <td>1</td>\n",
       "      <td>Кира</td>\n",
       "      <td>22</td>\n",
       "      <td>Тюмень</td>\n",
       "      <td>ultra</td>\n",
       "      <td>4</td>\n",
       "      <td>6</td>\n",
       "      <td>0</td>\n",
       "      <td>199</td>\n",
       "      <td>754.159807</td>\n",
       "      <td>7</td>\n",
       "      <td>1</td>\n",
       "      <td>241</td>\n",
       "    </tr>\n",
       "    <tr>\n",
       "      <th>2</th>\n",
       "      <td>1</td>\n",
       "      <td>Кира</td>\n",
       "      <td>22</td>\n",
       "      <td>Тюмень</td>\n",
       "      <td>ultra</td>\n",
       "      <td>8</td>\n",
       "      <td>6</td>\n",
       "      <td>0</td>\n",
       "      <td>199</td>\n",
       "      <td>6723.470560</td>\n",
       "      <td>46</td>\n",
       "      <td>2</td>\n",
       "      <td>475</td>\n",
       "    </tr>\n",
       "    <tr>\n",
       "      <th>3</th>\n",
       "      <td>1</td>\n",
       "      <td>Кира</td>\n",
       "      <td>22</td>\n",
       "      <td>Тюмень</td>\n",
       "      <td>ultra</td>\n",
       "      <td>10</td>\n",
       "      <td>6</td>\n",
       "      <td>0</td>\n",
       "      <td>199</td>\n",
       "      <td>5809.911100</td>\n",
       "      <td>32</td>\n",
       "      <td>2</td>\n",
       "      <td>391</td>\n",
       "    </tr>\n",
       "    <tr>\n",
       "      <th>4</th>\n",
       "      <td>1</td>\n",
       "      <td>Кира</td>\n",
       "      <td>22</td>\n",
       "      <td>Тюмень</td>\n",
       "      <td>ultra</td>\n",
       "      <td>11</td>\n",
       "      <td>6</td>\n",
       "      <td>0</td>\n",
       "      <td>199</td>\n",
       "      <td>7003.499363</td>\n",
       "      <td>56</td>\n",
       "      <td>3</td>\n",
       "      <td>535</td>\n",
       "    </tr>\n",
       "  </tbody>\n",
       "</table>\n",
       "</div>"
      ],
      "text/plain": [
       "   user_id  name  age    city subscription_type  month  minute_price  \\\n",
       "0        1  Кира   22  Тюмень             ultra      1             6   \n",
       "1        1  Кира   22  Тюмень             ultra      4             6   \n",
       "2        1  Кира   22  Тюмень             ultra      8             6   \n",
       "3        1  Кира   22  Тюмень             ultra     10             6   \n",
       "4        1  Кира   22  Тюмень             ultra     11             6   \n",
       "\n",
       "   start_ride_price  subscription_fee  distance_sum  duration_sum  \\\n",
       "0                 0               199   7027.511294            42   \n",
       "1                 0               199    754.159807             7   \n",
       "2                 0               199   6723.470560            46   \n",
       "3                 0               199   5809.911100            32   \n",
       "4                 0               199   7003.499363            56   \n",
       "\n",
       "   trips_count  income  \n",
       "0            2     451  \n",
       "1            1     241  \n",
       "2            2     475  \n",
       "3            2     391  \n",
       "4            3     535  "
      ]
     },
     "execution_count": 48,
     "metadata": {},
     "output_type": "execute_result"
    }
   ],
   "source": [
    "# Расчет помесячной выручки\n",
    "all_data_agg['income'] = (\n",
    "    all_data_agg['start_ride_price'] * all_data_agg['trips_count']  + \n",
    "    all_data_agg['minute_price']     * all_data_agg['duration_sum'] + \n",
    "    all_data_agg['subscription_fee'])\n",
    "\n",
    "all_data_agg.head()"
   ]
  },
  {
   "cell_type": "markdown",
   "id": "9987a7c9",
   "metadata": {},
   "source": [
    "### 5.3 Вывод <a id=\"section_5_3\"></a>"
   ]
  },
  {
   "cell_type": "markdown",
   "id": "ce520f02",
   "metadata": {},
   "source": [
    "На этапе подсчета выручки была проделана следующая работа:\n",
    "- Создали датафрейм с суммарным времением, суммарной дистанцией и количеством поездок для каждого пользователя по месяцам.\n",
    "- Произвели расчет и добавили столбец с суммарной выручкой для каждого пользователя в зависимости от типа подписки."
   ]
  },
  {
   "cell_type": "markdown",
   "id": "8e5948c0",
   "metadata": {},
   "source": [
    "## 6. Проверка гипотез <a id=\"section_6\"></a>"
   ]
  },
  {
   "cell_type": "markdown",
   "id": "744f91dd",
   "metadata": {},
   "source": [
    "Продакт-менеджеры сервиса хотят увеличить количество пользователей с подпиской. Для этого они будут проводить различные акции, но сначала нужно выяснить несколько важных моментов."
   ]
  },
  {
   "cell_type": "markdown",
   "id": "3d0546f6",
   "metadata": {},
   "source": [
    "### 6.1 Тратят ли пользователи с подпиской больше времени на поездки? <a id=\"section_6_1\"></a>"
   ]
  },
  {
   "cell_type": "markdown",
   "id": "c48cd589",
   "metadata": {},
   "source": [
    "Даны две генераные совокупности:\n",
    "1) Длительность поездок пользователей с подпиской `users_ultra['duration']`, количество наблюдений - 6500\n",
    "2) Длительность поездок пользователей без подписки `users_free['duration']`, количество наблюдений - 11568\n",
    "\n",
    "**Цель:** Необходимо понять, тратят ли пользователи с подпиской больше времени на поездки? Если да, то пользователи с подпиской могут быть «выгоднее» для компании.\n",
    "\n",
    "**Гипотеза:** Пользователи с подпиской тратят в среднем больше времени на поездки, чем пользователи без подписки.\n",
    "\n",
    "**Нулевая гипотеза (H0):** Средние значения продолжительности поездок для пользователей с подпиской и без подписки **равны**.\n",
    "\n",
    "**Альтернативная гипотеза (H1):** Средние значения продолжительности поездок для пользователей с подпиской **больше**, чем у пользователей без подписки.\n",
    "\n",
    "**Уровень значимости (alpha):** Установим значение **0.05**.\n",
    "\n",
    "**Метод проверки гипотезы:** **T-тест**, так как данные удовлетворяют следующим условиям:\n",
    "- Генеральные совокупности не зависят друг от друга\n",
    "- Согласно ЦПТ выборочные средние нормально распределены, так как размер выборок достаточно большой\n",
    "- Дисперсии рассматриваемых генеральных совокупностей равны  \n",
    "\n",
    "**Критерий оценки:** Если **p-значение**, полученное в результате **Т-теста**, будет меньше уровня значимости **alpha**, то нулевая гипотеза будет отвергнута в пользу альтернативной, и мы сможем утверждать, что есть статистически значимое различие в продолжительности поездок между пользователями с подпиской и без."
   ]
  },
  {
   "cell_type": "code",
   "execution_count": 49,
   "id": "037ff792",
   "metadata": {},
   "outputs": [
    {
     "name": "stdout",
     "output_type": "stream",
     "text": [
      "T-статистика: 12.68\n",
      "p-значение: 5.68e-37\n",
      "\n",
      "        Средние значения различны. \n",
      "        Отвергаем нулевую гипотезу в пользу альтернативной - cредние \n",
      "        значения продолжительности поездок для пользователей с подпиской \n",
      "        больше, чем у пользователей без подписки.\n",
      "    \n"
     ]
    }
   ],
   "source": [
    "# Для проведения Т-теста используем метод для проверки гипотезы о равенстве \n",
    "# среднего двух генеральных совокупностей `ttest_ind` из библиотеки `scipy.stats`, \n",
    "# при этом передадим этому методу параметр `equal_var = False`, так как число \n",
    "# наблюдений в генеральных совокупностях различны, а также параметр `alternative='greater'`, \n",
    "# так как альтернативная гипотеза правосторонняя.\n",
    "t, p = st.ttest_ind(users_ultra['duration'], users_free['duration'], equal_var=False, alternative='greater')\n",
    "print(f'T-статистика: {t.round(2)}')\n",
    "print(f'p-значение: {p:.3}')\n",
    "\n",
    "# Уровень значимости\n",
    "alpha = 0.05\n",
    "\n",
    "if p < alpha:\n",
    "    print('''\n",
    "        Средние значения различны. \n",
    "        Отвергаем нулевую гипотезу в пользу альтернативной - cредние \n",
    "        значения продолжительности поездок для пользователей с подпиской \n",
    "        больше, чем у пользователей без подписки.\n",
    "    ''')\n",
    "else:\n",
    "    print('''\n",
    "        Cредние значения схожи. \n",
    "        Нет оснований отвергнуть нулевую гипотезу - cредние значения \n",
    "        продолжительности поездок для пользователей с подпиской и без подписки равны.\n",
    "    ''')   "
   ]
  },
  {
   "cell_type": "markdown",
   "id": "acf618e3",
   "metadata": {},
   "source": [
    "Итак, по результатам T-теста, мы  отвергаем нулевую гипотезу о том, что время поездки пользователей на тарифе ultra равно времени поездки пользователей на тарифе free. То есть cредние значения продолжительности поездок для пользователей с подпиской больше, чем у пользователей без подписки, а значит пользователи с подпиской \"выгоднее\" для компании.\n",
    "Поэтому результаты теста указывают на поддержание идеи продакт-менеджеров об увеличении количествоа пользователей с подпиской."
   ]
  },
  {
   "cell_type": "markdown",
   "id": "11d3f57a",
   "metadata": {},
   "source": [
    "### 6.2 Оптимальное ли расстояние поездки у пользователей с подпиской? <a id=\"section_6_2\"></a>"
   ]
  },
  {
   "cell_type": "markdown",
   "id": "67ba98b5",
   "metadata": {},
   "source": [
    "Дана генеральная совокупность - расстояние, которое пользователи с подпиской проезжают за одну поездку `users_ultra['distance']`. Число наблюдений 6500.\n",
    "\n",
    "**Цель:** Расстояние одной поездки в 3130 метров — оптимальное с точки зрения износа самоката. Можно ли сказать, что среднее расстояние, которое проезжают пользователи с подпиской за одну поездку, не превышает 3130 метров?\n",
    "\n",
    "**Гипотеза:** пользователи с подпиской проезжают в среднем не больше 3130 метров.\n",
    "\n",
    "**Нулевая гипотеза (H0):** Средние значения расстояние, преодоленное пользователем с подпиской **равно 3130 метров**.\n",
    "\n",
    "**Альтернативная гипотеза (H1):** Средние значения расстояние, преодоленное пользователем с подпиской **больше 3130 метров** \n",
    "\n",
    "**Уровень значимости (alpha):** Установим значение **0.05**.\n",
    "\n",
    "**Метод проверки гипотезы:** **одновыборочный T-тест**, так как мы сравниваем среднее значение с известным значением - 3130м.   \n",
    "\n",
    "**Критерий оценки:** Если **p-значение**, полученное в результате **T-теста**, будет меньше уровня значимости **alpha**, то нулевая гипотеза будет отвергнута в пользу альтернативной, и мы сможем утверждать, что есть статистически значимое различие в расстояние, преодоленное пользователем с подпиской и без."
   ]
  },
  {
   "cell_type": "code",
   "execution_count": 50,
   "id": "ed40ca2e",
   "metadata": {},
   "outputs": [
    {
     "name": "stdout",
     "output_type": "stream",
     "text": [
      "T-статистика: -1.4\n",
      "p-значение: 0.9195\n",
      "\n",
      "Нет оснований отвергать нулевую гипотезу: среднее расстояние равно 3130 метров.\n"
     ]
    }
   ],
   "source": [
    "# Для проведения одновыборочного t-теста используем метод проверки статистических гипотез \n",
    "# о среднем значении в генеральной совокупности, когда у нас есть только одна выборка \n",
    "# данных `ttest_1samp` из библиотеки `scipy.stats`, при этом передадим этому методу \n",
    "# параметр `alternative='greater',` так как альтернативная гипотеза левосторонняя.\n",
    "\n",
    "optimal_distance = 3130\n",
    "\n",
    "t, p = st.ttest_1samp(users_ultra['distance'], optimal_distance, alternative='greater')\n",
    "print(f'T-статистика: {t.round(2)}')\n",
    "print(f'p-значение: {p.round(4)}\\n')\n",
    "\n",
    "# Уровень значимости\n",
    "alpha = 0.05\n",
    "\n",
    "if p < alpha:\n",
    "    print('Отвергаем нулевую гипотезу: среднее расстояние больше 3130 метров.')\n",
    "else:\n",
    "    print('Нет оснований отвергать нулевую гипотезу: среднее расстояние равно 3130 метров.')"
   ]
  },
  {
   "cell_type": "markdown",
   "id": "c44ee811",
   "metadata": {},
   "source": [
    "По результатам T-теста, мы не отвергаем нулевую гипотезу: среднее расстояние равно 3130 метров. То есть мы не можем утверждать, что пользователи за одну поездку в среднем проезжают расстояние меньше 3130 метров."
   ]
  },
  {
   "cell_type": "markdown",
   "id": "197fea11",
   "metadata": {},
   "source": [
    "### 6.3 От каких пользователей выручка выше - с подпиской или без? <a id=\"section_6_3\"></a>"
   ]
  },
  {
   "cell_type": "code",
   "execution_count": 51,
   "id": "ce70c970",
   "metadata": {},
   "outputs": [
    {
     "name": "stdout",
     "output_type": "stream",
     "text": [
      "Число наблюдений в генеральных совокупностях:\n",
      "1. Выручка от пользователей с подпиской - 4533 наблюдений\n",
      "2. Выручка от пользователей без подписки - 6798 наблюдений\n"
     ]
    }
   ],
   "source": [
    "# Сформируем две генеральные совокупности\n",
    "income_ultra = all_data_agg.query('subscription_type == \"ultra\"')['income']\n",
    "income_free = all_data_agg.query('subscription_type == \"free\"')['income']\n",
    "\n",
    "print(f\"Число наблюдений в генеральных совокупностях:\")\n",
    "print(f\"1. Выручка от пользователей с подпиской - {income_ultra.shape[0]} наблюдений\")\n",
    "print(f\"2. Выручка от пользователей без подписки - {income_free.shape[0]} наблюдений\")"
   ]
  },
  {
   "cell_type": "markdown",
   "id": "c0a6b7c2",
   "metadata": {},
   "source": [
    "\n",
    "\n",
    "**Цель:** Необходимо понять - будет ли помесячная выручка от пользователей с подпиской по месяцам выше, чем выручка от пользователей без подписки.\n",
    "\n",
    "**Гипотеза:** Помесячная выручка от пользователей с подпиской по месяцам выше, чем выручка от пользователей без подписки.\n",
    "\n",
    "**Нулевая гипотеза (H0):** Средние значения помесячной выручки от пользователей с подпиской и без подписки **равны**.\n",
    "\n",
    "**Альтернативная гипотеза (H1):** Средние значения помесячной выручки от пользователей с подпиской **больше**, чем выручка от пользователей без подписки.\n",
    "\n",
    "**Уровень значимости (alpha):** Установим на уровне **0.05**.\n",
    "\n",
    "**Метод проверки гипотезы:** **Т-тест**, так как генеральные совокупности удовлетворяют условиям:\n",
    "- Генеральные совокупности не зависят друг от друга.\n",
    "- Согласно ЦПТ, выборочные средние нормально распределены, так как размер выборок достаточно большой\n",
    "- Дисперсии рассматриваемых генеральных совокупностей равны    \n",
    "\n",
    "**Критерий оценки:** Если **p-значение**, полученное в результате **Т-теста**, будет меньше уровня значимости **alpha**, то нулевая гипотеза будет отвергнута в пользу альтернативной, и мы сможем утверждать, что есть статистически значимое различие в помесячной выручки от пользователей с подпиской и без."
   ]
  },
  {
   "cell_type": "code",
   "execution_count": 52,
   "id": "00cc505d",
   "metadata": {},
   "outputs": [
    {
     "name": "stdout",
     "output_type": "stream",
     "text": [
      "T-статистика: 13.2\n",
      "p-значение: 8.87e-40\n",
      "\n",
      "Средние значения помесячной выручки различны. Отвергаем нулевую гипотезу в пользу альтернативной.\n"
     ]
    }
   ],
   "source": [
    "# Для проведения Т-теста используем метод для проверки гипотезы о равенстве \n",
    "# среднего двух генеральных совокупностей `ttest_ind` из библиотеки `scipy.stats`, \n",
    "# при этом передадим этому методу параметр `equal_var=False,` так как число наблюдений \n",
    "# в генеральных совокупностях различны, а также параметр `alternative='greater'`, \n",
    "# так как альтернативная гипотеза правосторонняя. \n",
    "\n",
    "t, p = st.ttest_ind(income_ultra, income_free, equal_var=False, alternative='greater')\n",
    "print(f'T-статистика: {t.round(2)}')\n",
    "print(f'p-значение: {p:.3}\\n')\n",
    "\n",
    "# Уровень значимости\n",
    "alpha = 0.05\n",
    "\n",
    "if p < alpha:\n",
    "    print('Средние значения помесячной выручки различны. Отвергаем нулевую гипотезу в пользу альтернативной.')\n",
    "else:\n",
    "    print('Средние значения схожи. Нет оснований отвергнуть нулевую гипотезу.')  "
   ]
  },
  {
   "cell_type": "markdown",
   "id": "46be83d2",
   "metadata": {},
   "source": [
    "По результатам проведенного T-теста, мы отвергаем нулевую гипотезу. То есть, средние значения помесячной выручки от пользователей с подпиской больше, чем выручка от пользователей без подписки.\n",
    "Значит можно говорить о подтверждении исходной гипотезы о том, что пользователи с подпиской могут быть \"выгоднее\" для компании, так как они вносят больший финансовый вклад в сервис."
   ]
  },
  {
   "cell_type": "markdown",
   "id": "332f3774",
   "metadata": {},
   "source": [
    "### 6.4 Как изменилось количество обращений в техподдержку? <a id=\"section_6_4\"></a>"
   ]
  },
  {
   "cell_type": "markdown",
   "id": "48ba9319",
   "metadata": {},
   "source": [
    "Техническая команда сервиса обновила сервера, с которыми взаимодействует мобильное приложение. Она надеется, что из-за этого количество обращений в техподдержку значимо снизилось. Некоторый файл содержит для каждого пользователя данные о количестве обращений до обновления и после него.\n",
    "\n",
    "Таким образом, нам дана одна генеральная совокупность, которая состоит из двух зависимых парных выборок - количество обращений в техподдержку до технического обновления сервера приложения и после обновления. Число наблюдений для зависимых парных выборок одинаково.\n",
    "\n",
    "**Цель:** Выяснить - снизиться ли количество обращений в техподдержку после технического обновления на стороне сервера приложения.\n",
    "\n",
    "**Гипотеза:** Количество обращений от пользователей снизиться после технического обновления на стороне сервера приложения.\n",
    "\n",
    "**Нулевая гипотеза (H0):** Средние значения количества обращений до и после обновления серверов **равны**.\n",
    "\n",
    "**Альтернативная гипотеза (H1):** Среднее количество обращений после обновления серверов **меньше**, чем до обновления.\n",
    "\n",
    "**Уровень значимости (alpha):** Установим на уровне **0.05**.\n",
    "\n",
    "**Метод проверки гипотезы:** **парный Т-тест**, так как у нас есть два связанных набора данных, количество обращений до и после обновления для каждого пользователя.\n",
    "\n",
    "**Критерий оценки:** Если **p-значение**, полученное в результате **Т-теста**, будет меньше уровня значимости **alpha**, то нулевая гипотеза будет отвергнута в пользу альтернативной, и мы сможем утверждать, что есть статистически значимое различие в количестве обращений до и после обращения.\n",
    "\n",
    "#### Решение\n",
    "> Для проведения `парного Т-теста` используем метод для сравнения средних значений двух связанных выборок `ttest_rel` из библиотеки `scipy.stats`, при этом передадим этому методу два параметра: выброку до проведения обновления и после."
   ]
  },
  {
   "cell_type": "markdown",
   "id": "65e8f120",
   "metadata": {},
   "source": [
    "### 6.5 Выводы <a id=\"section_6_5\"></a>"
   ]
  },
  {
   "cell_type": "markdown",
   "id": "bf355f41",
   "metadata": {},
   "source": [
    "На этапе проверки гипотез была проделана работа по проверки четырех гипотез: \n",
    "\n",
    "- **Первая гипотеза: тратят ли пользователи с подпиской больше времени на поездки?**\n",
    "\n",
    "По результатам T-теста, мы  отвергли нулевую гипотезу о том, что время поездки пользователей на тарифе ultra равно времени поездки пользователей на тарифе free. То есть cредние значения продолжительности поездок для пользователей с подпиской оказались больше, чем у пользователей без подписки, а значит пользователи с подпиской \"выгоднее\" для компании.\n",
    "Поэтому результаты теста указали на поддержание идеи продакт-менеджеров об увеличении количества пользователей с подпиской.\n",
    "\n",
    "- **Вторая гипотеза: пользователи в среднем проезжают расстояние меньше 3130 метров.**\n",
    "\n",
    "По результатам T-теста, мы не отвергли нулевую гипотезу: среднее расстояние равно 3130 метров. То есть мы не можем утверждать, что пользователи за одну поездку в среднем проезжают расстояние меньше 3130 метров.\n",
    "\n",
    "- **Третья гипотеза: помесячная выручка от пользователей с подпиской по месяцам выше, чем выручка от пользователей без подписки.**\n",
    "\n",
    "По результатам проведенного T-теста, мы отвергли нулевую гипотезу. То есть, средние значения помесячной выручки от пользователей с подпиской оказались больше, чем выручка от пользователей без подписки.\n",
    "Значит можно говорить о подтверждении исходной гипотезы о том, что пользователи с подпиской могут быть \"выгоднее\" для компании, так как они вносят больший финансовый вклад в сервис.\n",
    "\n",
    "- **Четвертая гипотеза: количество обращений в техподдержку значимо снизится после обновления сервера, с которыми взаимодействует мобильное приложение**\n",
    "\n",
    "Для проведения парного Т-теста решено использовать метод для сравнения средних значений двух связанных выборок ttest_rel из библиотеки scipy.stats, при этом передадим этому методу два параметра: выброку до проведения обновления и после."
   ]
  },
  {
   "cell_type": "markdown",
   "id": "a37448eb",
   "metadata": {},
   "source": [
    "## 7. Общий вывод <a id=\"section_7\"></a>"
   ]
  },
  {
   "cell_type": "markdown",
   "id": "cb610d47",
   "metadata": {},
   "source": [
    "Нам был предоставлен доступ к датасетам, которые содержат данные о некоторых пользователях из нескольких городов, а также об их поездках. В результате исследования данных датасетов были изучены основные статистические показатели, удалены дубликаты, проверены гипотезы.\n",
    "\n",
    "В ходе статистического анализа данных по аренде самокатов в сервисе GoFast была проделана следующая работа:\n",
    "\n",
    "1. Загрузка данных и их просмотр \n",
    "\n",
    "- имеются три таблицы - с данными о пользователях, поездках и подписках. \n",
    "- в данных всех таблиц отсутствуют пропуски.\n",
    "- таблица с пользователями и поездками связаны идентификатором user_id.\n",
    "- таблица пользователей и информации с подписками связаны по столбцу subscription_type.\n",
    "\n",
    "2. Предобработка данных\n",
    "\n",
    "- привели столбец date к типу даты\n",
    "- создали новый столбец с номером месяца в таблице с поездками\n",
    "- проверили на наличие дубликатов, удалили дубликаты в таблице с пользователями\n",
    "- пропуски в таблицах не обнаружили\n",
    "\n",
    "3. Исследовательский анализ данных \n",
    "\n",
    "- больше всего пользователей встречается из города Пятигорск. Реже всего встречаются пользователи из Москвы.\n",
    "- пользователей без подписки больше, чем с подпиской\n",
    "- больше всего подписчиков в возрасте от 22 до 28 лет. Распределение величины симметрично. Пользователи младше 15 лет и старше 40 встречаются крайне кредко.\n",
    "- на гистограмме распределения расстояния, которое пользователь преодолел, видны два пика, что говорит о наличии двух типов пользователей:\n",
    "- пользователи с короткими поездками до 1500 метров - скорее всего использующих сервис для развлечений\n",
    "- пользователи с длинными поездками свыше 1500 метров - возможно испопользующих сервис как замену общественному транспорту\n",
    "- основная масса пользователей проезжает от 1 до 5 км\n",
    "- в среднем пользователь проезжает 3071м пути.\n",
    "- самые короткие поездки длятся не больше половины минуты. Возможно пользователи так пробуют новую для себя услугу или самокат оказывается сломанным.\n",
    "- самые длинные поездки - порядка 40 минут.\n",
    "- среднее время поездки составляет от 14 до 22 минут.\n",
    "\n",
    "4. Объединение данных \n",
    "\n",
    "- для пользователей с подпиской характерно большее количество длинных поездок.\n",
    "- у пользователей с подпиской распределение длительности поездок имеет более ярко выраженный хвост в сторону длительных поездок - до 40 минут. \n",
    "- у пользователей с подпиской короткие поездки начинаются с 4 минут\n",
    "- у пользователей без подписки короткие поездки начинаются от 1 минуты.\n",
    "- для пользователей с подпиской и без медианные значения длительности поездок достаточно близки - 18.54 и 17.39 минут соответственно. \n",
    "- большая часть данных по длительности поездок сосредоточена в диапазоне примерно от 15 до 22 минут у пользователей с подпиской и в диапазоне от 13 до 22 минут у пользователей без подписки.\n",
    "\n",
    "5. Подсчёт выручки \n",
    "\n",
    "- создали датафрейм с суммарным времением, суммарной дистанцией и количеством поездок для каждого пользователя по месяцам.\n",
    "- произвели расчет и добавили столбец с суммарной выручкой для каждого пользователя в зависимости от типа подписки.\n",
    "\n",
    "6. Проверка гипотез \n",
    "\n",
    "- **Первая гипотеза: тратят ли пользователи с подпиской больше времени на поездки?**\n",
    "\n",
    "По результатам T-теста, мы  отвергли нулевую гипотезу о том, что время поездки пользователей на тарифе ultra равно времени поездки пользователей на тарифе free. То есть cредние значения продолжительности поездок для пользователей с подпиской оказались больше, чем у пользователей без подписки, а значит пользователи с подпиской \"выгоднее\" для компании.\n",
    "Поэтому результаты теста указали на поддержание идеи продакт-менеджеров об увеличении количества пользователей с подпиской.\n",
    "\n",
    "- **Вторая гипотеза: пользователи в среднем проезжают расстояние меньше 3130 метров.**\n",
    "\n",
    "По результатам T-теста, мы не отвергли нулевую гипотезу: среднее расстояние равно 3130 метров. То есть мы не можем утверждать, что пользователи за одну поездку в среднем проезжают расстояние меньше 3130 метров.\n",
    "\n",
    "- **Третья гипотеза: помесячная выручка от пользователей с подпиской по месяцам выше, чем выручка от пользователей без подписки.**\n",
    "\n",
    "По результатам проведенного T-теста, мы отвергли нулевую гипотезу. То есть, средние значения помесячной выручки от пользователей с подпиской оказались больше, чем выручка от пользователей без подписки.\n",
    "Значит можно говорить о подтверждении исходной гипотезы о том, что пользователи с подпиской могут быть \"выгоднее\" для компании, так как они вносят больший финансовый вклад в сервис.\n",
    "\n",
    "- **Четвертая гипотеза: количество обращений в техподдержку значимо снизится после обновления сервера, с которыми взаимодействует мобильное приложение**\n",
    "\n",
    "Для проведения парного Т-теста решено использовать метод для сравнения средних значений двух связанных выборок ttest_rel из библиотеки scipy.stats, при этом передадим этому методу два параметра: выброку до проведения обновления и после."
   ]
  },
  {
   "cell_type": "markdown",
   "id": "5391fbad",
   "metadata": {},
   "source": [
    "Ссылка на проект в GitHub: https://github.com/chernyakid/gofast-research"
   ]
  },
  {
   "cell_type": "code",
   "execution_count": null,
   "id": "60b11222",
   "metadata": {},
   "outputs": [],
   "source": []
  }
 ],
 "metadata": {
  "kernelspec": {
   "display_name": "Python 3 (ipykernel)",
   "language": "python",
   "name": "python3"
  },
  "language_info": {
   "codemirror_mode": {
    "name": "ipython",
    "version": 3
   },
   "file_extension": ".py",
   "mimetype": "text/x-python",
   "name": "python",
   "nbconvert_exporter": "python",
   "pygments_lexer": "ipython3",
   "version": "3.11.5"
  }
 },
 "nbformat": 4,
 "nbformat_minor": 5
}
